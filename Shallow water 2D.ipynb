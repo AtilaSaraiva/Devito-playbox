{
 "cells": [
  {
   "cell_type": "code",
   "execution_count": 1,
   "id": "2540bb94-839b-452b-81d0-dee26f60aa41",
   "metadata": {},
   "outputs": [],
   "source": [
    "import devito\n",
    "from matplotlib import pyplot as plt\n",
    "import numpy as np\n",
    "%matplotlib inline"
   ]
  },
  {
   "cell_type": "code",
   "execution_count": 2,
   "id": "7d4a48ec-20e1-4c63-b571-7c0d2a02cc0a",
   "metadata": {},
   "outputs": [],
   "source": [
    "Lx = 100.0   # width of the mantle in the x direction []\n",
    "Ly = 100.0   # thickness of the mantle in the y direction []\n",
    "nx = 401     # number of points in the x direction\n",
    "ny = 401     # number of points in the y direction\n",
    "dx = Lx / (nx - 1)  # grid spacing in the x direction []\n",
    "dy = Ly / (ny - 1)  # grid spacing in the y direction []\n",
    "g = 9.81  # gravity acceleration [m/s^2]\n",
    "alpha = 0.025 # friction coefficient for natural channels in good condition\n",
    "# Maximum wave propagation time [s]\n",
    "Tmax = 6.\n",
    "dt = 1/4500.\n",
    "nt = (int)(Tmax/dt)"
   ]
  },
  {
   "cell_type": "code",
   "execution_count": 3,
   "id": "616b3e9e-ea3c-4337-addf-233be8daf0fa",
   "metadata": {},
   "outputs": [],
   "source": [
    "from devito import Grid, TimeFunction, Function\n",
    "\n",
    "grid = Grid(shape=(ny, nx), extent=(Ly, Lx))\n",
    "eta = TimeFunction(name='eta', grid=grid)\n",
    "M = TimeFunction(name='M', grid=grid)\n",
    "N = TimeFunction(name='N', grid=grid)\n",
    "h = Function(name='h', grid=grid)"
   ]
  },
  {
   "cell_type": "code",
   "execution_count": 4,
   "id": "cc5b4ac2-d752-4e0a-8d6c-2a860898dd49",
   "metadata": {},
   "outputs": [],
   "source": [
    "D = eta + h\n",
    "frictionTerm = g * alpha**2/D**(7/3)*(M**2+N**2)**(-1/2)"
   ]
  },
  {
   "cell_type": "code",
   "execution_count": 46,
   "id": "837f2ae7-ac63-483e-8e23-75b45f448c8e",
   "metadata": {},
   "outputs": [],
   "source": [
    "import numpy\n",
    "# Define the locations along a gridline.\n",
    "x = numpy.linspace(0.0, Lx, num=nx)\n",
    "y = numpy.linspace(0.0, Ly, num=ny)\n",
    "\n",
    "# Define initial eta, M, N\n",
    "X, Y = numpy.meshgrid(x,y) # coordinates X,Y required to define eta, h, M, N\n",
    "\n",
    "# Define constant ocean depth profile h = 50 m\n",
    "h.data[:] = 50 * numpy.ones_like(X)\n",
    "\n",
    "# Define initial eta Gaussian distribution [m]\n",
    "eta0 = 0.5 * numpy.exp(-((X-50)**2/10)-((Y-50)**2/10))\n",
    "\n",
    "# Define initial M and N\n",
    "M0 = 100. * eta0\n",
    "N0 = 0. * M0"
   ]
  },
  {
   "cell_type": "code",
   "execution_count": 5,
   "id": "d430cf9b-1a80-45ec-9aca-8e76b5de5911",
   "metadata": {},
   "outputs": [],
   "source": [
    "from devito import Eq, solve\n",
    "pde_eta = eta.dt + M.dx + N.dy\n",
    "eq_eta = Eq(eta.forward, solve(pde_eta, eta.forward))\n",
    "pde_M = M.dt + (M**2/D).dx + (M*N/D).dy + g*D*eta.dx + frictionTerm*M\n",
    "eq_M = Eq(M.forward, solve(pde_M, M.forward))\n",
    "pde_N = N.dt + (M*N/D).dx + (N**2/D).dy + g*D*eta.dy + frictionTerm*N\n",
    "eq_N = Eq(N.forward, solve(pde_N, N.forward))"
   ]
  },
  {
   "cell_type": "code",
   "execution_count": 62,
   "id": "4813fb3c-6d7c-4259-b161-e43cfd8e263f",
   "metadata": {},
   "outputs": [],
   "source": [
    "from devito import Operator\n",
    "eta.data[0] = eta0\n",
    "M.data[0]   = M0\n",
    "N.data[0]   = N0\n",
    "\n",
    "op = Operator([eq_eta] + [eq_M] + [eq_N])"
   ]
  },
  {
   "cell_type": "code",
   "execution_count": null,
   "id": "7e059b19-94ab-49d0-ba90-cf453e72eb3f",
   "metadata": {},
   "outputs": [],
   "source": [
    "op.apply(time=nt, dt=dt)"
   ]
  },
  {
   "cell_type": "code",
   "execution_count": null,
   "id": "dcd4b071-51c4-47be-8f5d-ca0c1cac601b",
   "metadata": {},
   "outputs": [],
   "source": []
  }
 ],
 "metadata": {
  "kernelspec": {
   "display_name": "Python 3",
   "language": "python",
   "name": "python3"
  },
  "language_info": {
   "codemirror_mode": {
    "name": "ipython",
    "version": 3
   },
   "file_extension": ".py",
   "mimetype": "text/x-python",
   "name": "python",
   "nbconvert_exporter": "python",
   "pygments_lexer": "ipython3",
   "version": "3.7.10"
  }
 },
 "nbformat": 4,
 "nbformat_minor": 5
}

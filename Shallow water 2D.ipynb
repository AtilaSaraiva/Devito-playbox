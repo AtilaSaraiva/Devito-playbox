{
 "cells": [
  {
   "cell_type": "code",
   "execution_count": 1,
   "id": "2540bb94-839b-452b-81d0-dee26f60aa41",
   "metadata": {},
   "outputs": [],
   "source": [
    "import devito\n",
    "from matplotlib import pyplot as plt\n",
    "import numpy as np\n",
    "%matplotlib inline"
   ]
  },
  {
   "cell_type": "code",
   "execution_count": 2,
   "id": "7d4a48ec-20e1-4c63-b571-7c0d2a02cc0a",
   "metadata": {},
   "outputs": [],
   "source": [
    "Lx = 100.0   # width of the mantle in the x direction []\n",
    "Ly = 100.0   # thickness of the mantle in the y direction []\n",
    "nx = 401     # number of points in the x direction\n",
    "ny = 401     # number of points in the y direction\n",
    "dx = Lx / (nx - 1)  # grid spacing in the x direction []\n",
    "dy = Ly / (ny - 1)  # grid spacing in the y direction []\n",
    "g = 9.81  # gravity acceleration [m/s^2]\n",
    "alpha = 0.025 # friction coefficient for natural channels in good condition\n",
    "# Maximum wave propagation time [s]\n",
    "Tmax = 1.\n",
    "dt = 1/4500.\n",
    "nt = (int)(Tmax/dt)"
   ]
  },
  {
   "cell_type": "code",
   "execution_count": 3,
   "id": "616b3e9e-ea3c-4337-addf-233be8daf0fa",
   "metadata": {},
   "outputs": [
    {
     "data": {
      "text/latex": [
       "$\\displaystyle M{\\left(t,x,y \\right)}$"
      ],
      "text/plain": [
       "M(t, x, y)"
      ]
     },
     "execution_count": 3,
     "metadata": {},
     "output_type": "execute_result"
    }
   ],
   "source": [
    "from devito import Grid, TimeFunction, Function\n",
    "\n",
    "grid = Grid(shape=(ny, nx), extent=(Ly, Lx))\n",
    "eta = TimeFunction(name='eta', grid=grid, space_order=2)\n",
    "M = TimeFunction(name='M', grid=grid, space_order=2)\n",
    "N = TimeFunction(name='N', grid=grid, space_order=2)\n",
    "h = Function(name='h', grid=grid)\n",
    "M"
   ]
  },
  {
   "cell_type": "code",
   "execution_count": 4,
   "id": "cc5b4ac2-d752-4e0a-8d6c-2a860898dd49",
   "metadata": {},
   "outputs": [
    {
     "name": "stdout",
     "output_type": "stream",
     "text": [
      "0.00613125*(M(t, x, y)**2 + N(t, x, y)**2)**(-0.5)*(eta(t, x, y) + h(x, y))**(-2.33333333333333)\n"
     ]
    }
   ],
   "source": [
    "D = eta + h\n",
    "frictionTerm = g * alpha**2/D**(7/3)*(M**2+N**2)**(-1/2)\n",
    "print(frictionTerm)"
   ]
  },
  {
   "cell_type": "code",
   "execution_count": 5,
   "id": "837f2ae7-ac63-483e-8e23-75b45f448c8e",
   "metadata": {},
   "outputs": [],
   "source": [
    "import numpy\n",
    "# Define the locations along a gridline.\n",
    "x = numpy.linspace(0.0, Lx, num=nx)\n",
    "y = numpy.linspace(0.0, Ly, num=ny)\n",
    "\n",
    "# Define initial eta, M, N\n",
    "X, Y = numpy.meshgrid(x,y) # coordinates X,Y required to define eta, h, M, N\n",
    "\n",
    "# Define constant ocean depth profile h = 50 m\n",
    "h.data[:] = 50 * numpy.ones_like(X)\n",
    "\n",
    "# Define initial eta Gaussian distribution [m]\n",
    "eta0 = 0.5 * numpy.exp(-((X-50)**2/10)-((Y-50)**2/10))\n",
    "\n",
    "# Define initial M and N\n",
    "M0 = 100. * eta0\n",
    "N0 = 0. * M0\n",
    "\n",
    "eta.data[:] = eta0.copy()\n",
    "M.data[:]   = M0.copy()\n",
    "N.data[:]   = N0.copy()"
   ]
  },
  {
   "cell_type": "code",
   "execution_count": 6,
   "id": "d430cf9b-1a80-45ec-9aca-8e76b5de5911",
   "metadata": {},
   "outputs": [
    {
     "name": "stdout",
     "output_type": "stream",
     "text": [
      "Derivative(M(t, x, y), x) + Derivative(N(t, x, y), y) + Derivative(eta(t, x, y), t)\n"
     ]
    }
   ],
   "source": [
    "from devito import Eq, solve\n",
    "pde_eta = eta.dt + M.dx + N.dy\n",
    "eq_eta = Eq(eta.forward, solve(pde_eta, eta.forward), subdomain=grid.interior)\n",
    "pde_M = M.dt + (M**2/D).dx + (M*N/D).dy + g*D*eta.dx + frictionTerm*M\n",
    "eq_M = Eq(M.forward, solve(pde_M, M.forward), subdomain=grid.interior)\n",
    "pde_N = N.dt + (M*N/D).dx + (N**2/D).dy + g*D*eta.dy + frictionTerm*N\n",
    "eq_N = Eq(N.forward, solve(pde_N, N.forward), subdomain=grid.interior)\n",
    "print(pde_eta)"
   ]
  },
  {
   "cell_type": "code",
   "execution_count": 12,
   "id": "4813fb3c-6d7c-4259-b161-e43cfd8e263f",
   "metadata": {},
   "outputs": [],
   "source": [
    "from devito import Operator\n",
    "\n",
    "optime = Operator([eq_eta, eq_M, eq_N])"
   ]
  },
  {
   "cell_type": "code",
   "execution_count": 13,
   "id": "dffd8ef1-6fff-4342-b0fd-785620f343ac",
   "metadata": {},
   "outputs": [
    {
     "data": {
      "text/plain": [
       "<matplotlib.image.AxesImage at 0x7f3cafc3f790>"
      ]
     },
     "execution_count": 13,
     "metadata": {},
     "output_type": "execute_result"
    },
    {
     "data": {
      "image/png": "[encoded data removed]",
      "text/plain": [
       "<Figure size 432x288 with 1 Axes>"
      ]
     },
     "metadata": {
      "needs_background": "light"
     },
     "output_type": "display_data"
    }
   ],
   "source": [
    "plt.imshow(eta.data[0])"
   ]
  },
  {
   "cell_type": "code",
   "execution_count": 14,
   "id": "f40c2e04-64ea-4faf-849f-25bccf235032",
   "metadata": {},
   "outputs": [
    {
     "data": {
      "text/plain": [
       "<matplotlib.image.AxesImage at 0x7f3cafbbbd10>"
      ]
     },
     "execution_count": 14,
     "metadata": {},
     "output_type": "execute_result"
    },
    {
     "data": {
      "image/png": "[encoded data removed]",
      "text/plain": [
       "<Figure size 432x288 with 1 Axes>"
      ]
     },
     "metadata": {
      "needs_background": "light"
     },
     "output_type": "display_data"
    }
   ],
   "source": [
    "plt.imshow(M.data[0])"
   ]
  },
  {
   "cell_type": "code",
   "execution_count": 15,
   "id": "c4a19a90-6daa-4c65-878c-c5b06b1227c5",
   "metadata": {},
   "outputs": [
    {
     "data": {
      "text/plain": [
       "<matplotlib.image.AxesImage at 0x7f3cafcbd510>"
      ]
     },
     "execution_count": 15,
     "metadata": {},
     "output_type": "execute_result"
    },
    {
     "data": {
      "image/png": "[encoded data removed]",
      "text/plain": [
       "<Figure size 432x288 with 1 Axes>"
      ]
     },
     "metadata": {
      "needs_background": "light"
     },
     "output_type": "display_data"
    }
   ],
   "source": [
    "plt.imshow(N.data[0])"
   ]
  },
  {
   "cell_type": "code",
   "execution_count": 17,
   "id": "7e059b19-94ab-49d0-ba90-cf453e72eb3f",
   "metadata": {},
   "outputs": [
    {
     "ename": "NameError",
     "evalue": "name 'configuration' is not defined",
     "output_type": "error",
     "traceback": [
      "\u001b[0;31m------------------------------------------------------------------------\u001b[0m",
      "\u001b[0;31mNameError\u001b[0m                              Traceback (most recent call last)",
      "\u001b[0;32m<ipython-input-17-de231b5bbb18>\u001b[0m in \u001b[0;36m<module>\u001b[0;34m\u001b[0m\n\u001b[1;32m      1\u001b[0m \u001b[0;31m# Silence non-essential outputs from the solver.\u001b[0m\u001b[0;34m\u001b[0m\u001b[0;34m\u001b[0m\u001b[0;34m\u001b[0m\u001b[0m\n\u001b[0;32m----> 2\u001b[0;31m \u001b[0mconfiguration\u001b[0m\u001b[0;34m[\u001b[0m\u001b[0;34m'log-level'\u001b[0m\u001b[0;34m]\u001b[0m \u001b[0;34m=\u001b[0m \u001b[0;34m'ERROR'\u001b[0m\u001b[0;34m\u001b[0m\u001b[0;34m\u001b[0m\u001b[0m\n\u001b[0m\u001b[1;32m      3\u001b[0m \u001b[0;34m\u001b[0m\u001b[0m\n\u001b[1;32m      4\u001b[0m \u001b[0;31m# This is the time loop.\u001b[0m\u001b[0;34m\u001b[0m\u001b[0;34m\u001b[0m\u001b[0;34m\u001b[0m\u001b[0m\n\u001b[1;32m      5\u001b[0m \u001b[0;32mfor\u001b[0m \u001b[0mstep\u001b[0m \u001b[0;32min\u001b[0m \u001b[0mrange\u001b[0m\u001b[0;34m(\u001b[0m\u001b[0;36m0\u001b[0m\u001b[0;34m,\u001b[0m\u001b[0mnt\u001b[0m\u001b[0;34m)\u001b[0m\u001b[0;34m:\u001b[0m\u001b[0;34m\u001b[0m\u001b[0;34m\u001b[0m\u001b[0m\n",
      "\u001b[0;31mNameError\u001b[0m: name 'configuration' is not defined"
     ]
    }
   ],
   "source": [
    "# Silence non-essential outputs from the solver.\n",
    "configuration['log-level'] = 'ERROR'\n",
    "\n",
    "# This is the time loop.\n",
    "for step in range(0,nt):\n",
    "    optime(time_m=step, time_M=step, dt=dt)"
   ]
  },
  {
   "cell_type": "code",
   "execution_count": null,
   "id": "cf81af41-8994-457b-ad79-99f5a4f75a67",
   "metadata": {},
   "outputs": [],
   "source": [
    "eta.data"
   ]
  },
  {
   "cell_type": "code",
   "execution_count": null,
   "id": "1dc4f331-716f-4836-9a6c-2406d580fd94",
   "metadata": {},
   "outputs": [],
   "source": [
    "help(op)"
   ]
  },
  {
   "cell_type": "code",
   "execution_count": null,
   "id": "deb29b52-63d1-4a4e-b70a-ebdd6a5bfe6c",
   "metadata": {},
   "outputs": [],
   "source": []
  }
 ],
 "metadata": {
  "kernelspec": {
   "display_name": "Python 3",
   "language": "python",
   "name": "python3"
  },
  "language_info": {
   "codemirror_mode": {
    "name": "ipython",
    "version": 3
   },
   "file_extension": ".py",
   "mimetype": "text/x-python",
   "name": "python",
   "nbconvert_exporter": "python",
   "pygments_lexer": "ipython3",
   "version": "3.7.10"
  }
 },
 "nbformat": 4,
 "nbformat_minor": 5
}

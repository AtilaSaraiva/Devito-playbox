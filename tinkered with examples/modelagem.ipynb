{
 "cells": [
  {
   "cell_type": "code",
   "execution_count": 2,
   "id": "8fdbaf43",
   "metadata": {},
   "outputs": [
    {
     "ename": "ModuleNotFoundError",
     "evalue": "No module named 'numpy'",
     "output_type": "error",
     "traceback": [
      "\u001b[0;31m-----------------------------------------------------------------------\u001b[0m",
      "\u001b[0;31mModuleNotFoundError\u001b[0m                   Traceback (most recent call last)",
      "\u001b[0;32m<ipython-input-2-f025ec8191fb>\u001b[0m in \u001b[0;36m<module>\u001b[0;34m\u001b[0m\n\u001b[0;32m----> 1\u001b[0;31m \u001b[0;32mimport\u001b[0m \u001b[0mnumpy\u001b[0m \u001b[0;32mas\u001b[0m \u001b[0mnp\u001b[0m\u001b[0;34m\u001b[0m\u001b[0;34m\u001b[0m\u001b[0m\n\u001b[0m\u001b[1;32m      2\u001b[0m \u001b[0mget_ipython\u001b[0m\u001b[0;34m(\u001b[0m\u001b[0;34m)\u001b[0m\u001b[0;34m.\u001b[0m\u001b[0mrun_line_magic\u001b[0m\u001b[0;34m(\u001b[0m\u001b[0;34m'matplotlib'\u001b[0m\u001b[0;34m,\u001b[0m \u001b[0;34m'inline'\u001b[0m\u001b[0;34m)\u001b[0m\u001b[0;34m\u001b[0m\u001b[0;34m\u001b[0m\u001b[0m\n\u001b[1;32m      3\u001b[0m \u001b[0mget_ipython\u001b[0m\u001b[0;34m(\u001b[0m\u001b[0;34m)\u001b[0m\u001b[0;34m.\u001b[0m\u001b[0mrun_line_magic\u001b[0m\u001b[0;34m(\u001b[0m\u001b[0;34m'config'\u001b[0m\u001b[0;34m,\u001b[0m \u001b[0;34m\"InlineBackend.figure_format = 'svg'\"\u001b[0m\u001b[0;34m)\u001b[0m\u001b[0;34m\u001b[0m\u001b[0;34m\u001b[0m\u001b[0m\n\u001b[1;32m      4\u001b[0m \u001b[0;32mimport\u001b[0m \u001b[0mmatplotlib\u001b[0m\u001b[0;34m.\u001b[0m\u001b[0mpyplot\u001b[0m \u001b[0;32mas\u001b[0m \u001b[0mplt\u001b[0m\u001b[0;34m\u001b[0m\u001b[0;34m\u001b[0m\u001b[0m\n",
      "\u001b[0;31mModuleNotFoundError\u001b[0m: No module named 'numpy'"
     ]
    }
   ],
   "source": [
    "import numpy as np\n",
    "%matplotlib inline\n",
    "%config InlineBackend.figure_format = 'svg'\n",
    "import matplotlib.pyplot as plt"
   ]
  },
  {
   "cell_type": "code",
   "execution_count": null,
   "id": "a08a6e40",
   "metadata": {},
   "outputs": [],
   "source": [
    "nx = 81 # tente mudar este número de 41 para 81 e rodar tudo novamente ... o que acontece?\n",
    "dx = 2/(nx-1)\n",
    "nt = 25\n",
    "dt = .02\n",
    "c = 1 # suponha velocidade da onda c = 1\n",
    "x = np.linspace(0,2,nx)\n",
    "u = np.ones(nx)      # numpy function ones()\n",
    "u[int(.5 / dx):int(1 / dx + 1)] = 2  # setting u = 2 between 0.5 and 1 as per our I.C.s\n",
    "print(x)\n",
    "print(u)\n",
    "plt.plot(x,u,'o-')\n",
    "plt.grid()"
   ]
  },
  {
   "cell_type": "code",
   "execution_count": null,
   "id": "aab5da99",
   "metadata": {},
   "outputs": [],
   "source": [
    "un = np.ones(nx) #initialize a temporary array\n",
    "\n",
    "for n in range(nt):  #loop for values of n from 0 to nt, so it will run nt times\n",
    "    un = u.copy() ##copy the existing values of u into un\n",
    "    for i in range(1, nx): ## you can try commenting this line and...\n",
    "    #for i in range(nx): ## ... uncommenting this line and see what happens!\n",
    "        u[i] = un[i] - c * dt / dx * (un[i] - un[i-1])"
   ]
  },
  {
   "cell_type": "code",
   "execution_count": null,
   "id": "8126e148",
   "metadata": {},
   "outputs": [],
   "source": [
    "plt.plot(x, u, 'o-')\n",
    "plt.grid()"
   ]
  },
  {
   "cell_type": "markdown",
   "id": "4aebcffb",
   "metadata": {},
   "source": [
    "## Implementação com Devito"
   ]
  },
  {
   "cell_type": "code",
   "execution_count": null,
   "id": "2f0a17d9",
   "metadata": {},
   "outputs": [],
   "source": [
    "#NBVAL_IGNORE_OUTPUT\n",
    "from examples.cfd import plot_field, init_hat\n",
    "from devito import Grid, TimeFunction\n",
    "\n",
    "grid = Grid(shape=(nx,), extent=(2.,))\n",
    "u = TimeFunction(name='u', grid=grid)\n",
    "\n",
    "u.data[0][:] = 1.\n",
    "u.data[0][int(.5 / dx):int(1 / dx + 1)] = 2.\n",
    "# Note que u.data[0] == u.data[0,:]\n",
    "print(u.data[0],u.data.shape,u.data.size)\n",
    "plt.plot(x,u.data[0],'o-')\n",
    "plt.grid()"
   ]
  },
  {
   "cell_type": "code",
   "execution_count": null,
   "id": "ec6598b4",
   "metadata": {},
   "outputs": [],
   "source": [
    "from devito import Eq\n",
    "\n",
    "# Specify the `interior` flag so that the stencil is only\n",
    "# applied to the interior of the domain.\n",
    "eq = Eq(u.dt + c*u.dxl, subdomain=grid.interior)\n",
    "\n",
    "print(eq)\n",
    "eq"
   ]
  },
  {
   "cell_type": "code",
   "execution_count": null,
   "id": "95526b42",
   "metadata": {},
   "outputs": [],
   "source": [
    "u.forward"
   ]
  },
  {
   "cell_type": "code",
   "execution_count": null,
   "id": "29607764",
   "metadata": {},
   "outputs": [],
   "source": [
    "from devito import solve\n",
    "from sympy import nsimplify, pprint\n",
    "\n",
    "stencil = solve(eq, u.forward)\n",
    "\n",
    "pprint(stencil)"
   ]
  },
  {
   "cell_type": "code",
   "execution_count": null,
   "id": "269313c2",
   "metadata": {},
   "outputs": [],
   "source": [
    "#NBVAL_IGNORE_OUTPUT\n",
    "from devito import Operator\n",
    "\n",
    "# Reset our initial condition in both buffers.\n",
    "# This is required to avoid 0s propagating into\n",
    "# our solution, which has a background value of 1.\n",
    "for i in range(u.data.shape[0]):\n",
    "    u.data[i][:] = 1.\n",
    "    u.data[i][int(.5 / dx):int(1 / dx + 1)] = 2.\n",
    "\n",
    "# Create an operator that updates the forward stencil point\n",
    "op = Operator(Eq(u.forward, stencil, subdomain=grid.interior))\n",
    "\n",
    "# Apply the operator for a number of timesteps\n",
    "op.apply(time=nt, dt=dt)"
   ]
  },
  {
   "cell_type": "code",
   "execution_count": null,
   "id": "cc3997bc",
   "metadata": {},
   "outputs": [],
   "source": [
    "plt.plot(np.linspace(0, 2, nx), u.data[0], 'o-')\n",
    "plt.grid()"
   ]
  },
  {
   "cell_type": "code",
   "execution_count": null,
   "id": "279ae354",
   "metadata": {},
   "outputs": [],
   "source": [
    "print(op.ccode)"
   ]
  },
  {
   "cell_type": "markdown",
   "id": "7a09a706",
   "metadata": {},
   "source": [
    "### Outra condição inicial"
   ]
  },
  {
   "cell_type": "code",
   "execution_count": null,
   "id": "4a954785",
   "metadata": {},
   "outputs": [],
   "source": [
    "nx = 41\n",
    "L = 1.0\n",
    "dx = L/(nx-1)\n",
    "print(dx)\n",
    "x = np.linspace(0,L,nx)\n",
    "u = np.sin(2.0*np.pi*x)\n",
    "plt.plot(x,u,'-o')\n",
    "plt.grid()"
   ]
  },
  {
   "cell_type": "code",
   "execution_count": null,
   "id": "9a6107d6",
   "metadata": {},
   "outputs": [],
   "source": [
    "c = 1.0 # m/s - wave speed\n",
    "dt = dx/c  # run just at the CFL condition\n",
    "cfl = c*dt/dx\n",
    "print(dt, int(1./dt))\n",
    "\n",
    "un = u.copy() ##copy the existing values of u into un\n",
    "u[1:-1] = un[1:-1] - cfl * (un[1:-1] - un[:-2])\n",
    "u[-1] = un[-1] - cfl*(un[-1] - un[-2]) # compute last point on the right using periodicity\n",
    "u[0] = u[-1] # set periodic boundary on the left\n",
    "print(u.size,u.shape)\n",
    "plt.plot(x,un,'-o',x,u,'--o')\n",
    "plt.grid()"
   ]
  },
  {
   "cell_type": "code",
   "execution_count": null,
   "id": "96567cd9",
   "metadata": {},
   "outputs": [],
   "source": [
    "grid = Grid(shape=(nx,), extent=(1.,))\n",
    "u = TimeFunction(name='u', grid=grid)\n",
    "\n",
    "u.data[0][:] = np.sin(2.0*np.pi*x)\n",
    "# Note que u.data[0] == u.data[0,:]\n",
    "print(u.data[0],u.data.shape,u.data.size)\n",
    "plt.plot(x,u.data[0],'o-')\n",
    "plt.grid()"
   ]
  },
  {
   "cell_type": "code",
   "execution_count": null,
   "id": "1857f04b",
   "metadata": {},
   "outputs": [],
   "source": [
    "eq = Eq(u.dt + c*u.dxl, subdomain=grid.interior)\n",
    "\n",
    "stencil = solve(eq, u.forward)\n",
    "update = Eq(u.forward, stencil)#, subdomain=grid.interior)\n",
    "update"
   ]
  },
  {
   "cell_type": "code",
   "execution_count": null,
   "id": "9d221931",
   "metadata": {},
   "outputs": [],
   "source": [
    "x = grid.dimensions\n",
    "t = grid.stepping_dim\n",
    "bc_left = Eq(u[t + 1, 0], u[t + 1, nx-1])"
   ]
  },
  {
   "cell_type": "code",
   "execution_count": null,
   "id": "57fbf625",
   "metadata": {},
   "outputs": [],
   "source": [
    "for i in range(u.data.shape[0]):\n",
    "    u.data[i][:] = np.sin(2.0*np.pi*np.linspace(0,L,nx))\n",
    "    \n",
    "#op2 = Operator([update], opt='noop')\n",
    "op2 = Operator([update]+[bc_left], opt='noop')\n",
    "op2(time=0, dt=dt)"
   ]
  },
  {
   "cell_type": "code",
   "execution_count": null,
   "id": "11211635",
   "metadata": {},
   "outputs": [],
   "source": [
    "plt.plot(np.linspace(0,L,nx),u.data[0],'o-',np.linspace(0,L,nx),u.data[1],'--o')\n",
    "plt.grid()"
   ]
  },
  {
   "cell_type": "code",
   "execution_count": null,
   "id": "ddad9c7b",
   "metadata": {},
   "outputs": [],
   "source": [
    "print(op2.ccode)"
   ]
  },
  {
   "cell_type": "code",
   "execution_count": null,
   "id": "2a82feb4",
   "metadata": {},
   "outputs": [],
   "source": [
    "for i in range(u.data.shape[0]):\n",
    "    u.data[i][:] = np.sin(2.0*np.pi*np.linspace(0,L,nx))\n",
    "    \n",
    "op2(time=nt, dt=dt)"
   ]
  },
  {
   "cell_type": "code",
   "execution_count": null,
   "id": "1b115b74",
   "metadata": {},
   "outputs": [],
   "source": [
    "plt.plot(np.linspace(0,L,nx),u.data[1],'o-')\n",
    "plt.grid()"
   ]
  },
  {
   "cell_type": "markdown",
   "id": "6fadc381",
   "metadata": {},
   "source": [
    "## Modelagem sísmica"
   ]
  },
  {
   "cell_type": "code",
   "execution_count": null,
   "id": "36a01fcf",
   "metadata": {},
   "outputs": [],
   "source": [
    "import numpy as np\n",
    "%matplotlib inline"
   ]
  },
  {
   "cell_type": "code",
   "execution_count": null,
   "id": "f7ceee3d",
   "metadata": {},
   "outputs": [],
   "source": [
    "from examples.seismic import Model, plot_velocity\n",
    "\n",
    "# Devine a physical size\n",
    "shape = (101, 101) # Number of grid point (nz, nx)\n",
    "spacing = (10., 10.) # Grid spacing in m. This domain size is now 1km by 1km\n",
    "origin = (0., 0.) # What is the location of the top left corner. This is necessary to define\n",
    "\n",
    "# Define a velocity profile. The velocity is in km/s\n",
    "v = np.empty(shape, dtype=np.float32)\n",
    "v[:, :51] = 1.5\n",
    "v[:, 51:] = 2.5\n",
    "\n",
    "# With the velocity and model size defined, we can create a seismic model that encapsulates this properties.\n",
    "# we also define the size of the absorbing layer as 10 grid points.\n",
    "model = Model(vp=v, origin=origin, shape=shape, spacing=spacing,\n",
    "              space_order=2, nbl=30, bcs=\"damp\")\n",
    "\n",
    "plot_velocity(model)"
   ]
  },
  {
   "cell_type": "markdown",
   "id": "0707aea5",
   "metadata": {},
   "source": [
    "### Acquisition geometry"
   ]
  },
  {
   "cell_type": "code",
   "execution_count": null,
   "id": "d6228d31",
   "metadata": {},
   "outputs": [],
   "source": [
    "from examples.seismic import TimeAxis\n",
    "t0 = 0. # Simulation starts a t=0\n",
    "tn = 1000. # Simulation last 1 second (1000 ms)\n",
    "dt = model.critical_dt # Time \n",
    "\n",
    "time_range = TimeAxis(start=t0, stop=tn, step=dt)"
   ]
  },
  {
   "cell_type": "code",
   "execution_count": null,
   "id": "a760b966",
   "metadata": {},
   "outputs": [],
   "source": [
    "from examples.seismic import RickerSource\n",
    "\n",
    "f0 = 0.010 # Source peak frequency is 10Hz (0.010 kHz)\n",
    "src = RickerSource(name='src', grid=model.grid, f0=f0,\n",
    "                   npoint=1, time_range=time_range)\n",
    "\n",
    "src.coordinates.data[0,:] = np.array(model.domain_size) * 0.5\n",
    "src.coordinates.data[0,-1] = 20. # Depth is 20m\n",
    "\n",
    "src.show()"
   ]
  },
  {
   "cell_type": "code",
   "execution_count": null,
   "id": "566e4427",
   "metadata": {},
   "outputs": [],
   "source": [
    "from examples.seismic import Receiver\n",
    "\n",
    "# Create symbol for 101 receivers\n",
    "rec = Receiver(name='rec', grid=model.grid, npoint=101, time_range=time_range)\n",
    "\n",
    "# Prescribe even spacing for receivers along the x-axis\n",
    "rec.coordinates.data[:, 0] = np.linspace(0, model.domain_size[0], num=101)\n",
    "\n",
    "# We can now show the source and receivers within our domain:\n",
    "# Red dot: Source location\n",
    "# Green dots: Receiver locations (every 4th point)\n",
    "plot_velocity(model, source=src.coordinates.data,\n",
    "              receiver=rec.coordinates.data[::4, :])"
   ]
  },
  {
   "cell_type": "markdown",
   "id": "dc64e775",
   "metadata": {},
   "source": [
    "### Finite-difference discretization"
   ]
  },
  {
   "cell_type": "code",
   "execution_count": null,
   "id": "d3bec0c3",
   "metadata": {},
   "outputs": [],
   "source": [
    "from devito import TimeFunction\n",
    "\n",
    "# Define the wavefield with the size of the model and the time dimension\n",
    "u = TimeFunction(name=\"u\", grid=model.grid, time_order=2, space_order=2)\n",
    "\n",
    "# We can now write the PDE\n",
    "pde = model.m * u.dt2 - u.laplace + model.damp * u.dt\n",
    "\n",
    "# The PDE representation is as on paper\n",
    "pde"
   ]
  },
  {
   "cell_type": "code",
   "execution_count": null,
   "id": "a9055574",
   "metadata": {},
   "outputs": [],
   "source": [
    "# This discrete PDE can be solved in a time-marching way updating u(t+dt) from the previous time step\n",
    "# Devito as a shotcut for u(t+dt) which is u.forward. We can then rewrite the PDE as a time marching\n",
    "# updating equation known as a stencil using customized SymPy functions\n",
    "from devito import Eq, solve\n",
    "\n",
    "stencil = Eq(u.forward, solve(pde, u.forward))\n",
    "stencil"
   ]
  },
  {
   "cell_type": "markdown",
   "id": "ec31e3e5",
   "metadata": {},
   "source": [
    "### Source injection and receiver interpolation"
   ]
  },
  {
   "cell_type": "code",
   "execution_count": null,
   "id": "6ee39d32",
   "metadata": {},
   "outputs": [],
   "source": [
    "# Finally we define the source injection and receiver read function to generate the corresponding code\n",
    "src_term = src.inject(field=u.forward, expr=src * dt**2 / model.m)\n",
    "\n",
    "# Create interpolation expression for receivers\n",
    "rec_term = rec.interpolate(expr=u.forward)"
   ]
  },
  {
   "cell_type": "markdown",
   "id": "b8f0012e",
   "metadata": {},
   "source": [
    "### Devito operator and solve"
   ]
  },
  {
   "cell_type": "code",
   "execution_count": null,
   "id": "13b148f8",
   "metadata": {},
   "outputs": [],
   "source": [
    "from devito import Operator\n",
    "\n",
    "op = Operator([stencil] + src_term + rec_term, subs=model.spacing_map)"
   ]
  },
  {
   "cell_type": "code",
   "execution_count": null,
   "id": "7ab5abf3",
   "metadata": {},
   "outputs": [],
   "source": [
    "op(time=time_range.num-1, dt=model.critical_dt)"
   ]
  },
  {
   "cell_type": "code",
   "execution_count": null,
   "id": "88ddfd3a",
   "metadata": {},
   "outputs": [],
   "source": [
    "from examples.seismic import plot_shotrecord\n",
    "\n",
    "plot_shotrecord(rec.data, model, t0, tn)"
   ]
  }
 ],
 "metadata": {
  "kernelspec": {
   "display_name": "Python3 - mach-nix-jupyter",
   "language": "python",
   "name": "ipython_mach-nix-jupyter"
  },
  "language_info": {
   "codemirror_mode": {
    "name": "ipython",
    "version": 3
   },
   "file_extension": ".py",
   "mimetype": "text/x-python",
   "name": "python",
   "nbconvert_exporter": "python",
   "pygments_lexer": "ipython3",
   "version": "3.8.9"
  }
 },
 "nbformat": 4,
 "nbformat_minor": 5
}

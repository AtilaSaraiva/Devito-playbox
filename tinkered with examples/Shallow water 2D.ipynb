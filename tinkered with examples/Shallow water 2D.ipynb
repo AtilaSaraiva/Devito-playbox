{
 "cells": [
  {
   "cell_type": "code",
   "execution_count": 1,
   "id": "2540bb94-839b-452b-81d0-dee26f60aa41",
   "metadata": {},
   "outputs": [],
   "source": [
    "import devito\n",
    "from matplotlib import pyplot as plt\n",
    "import numpy as np\n",
    "%matplotlib inline"
   ]
  },
  {
   "cell_type": "code",
   "execution_count": 2,
   "id": "7d4a48ec-20e1-4c63-b571-7c0d2a02cc0a",
   "metadata": {},
   "outputs": [
    {
     "name": "stdout",
     "output_type": "stream",
     "text": [
      "0.00022222222222222223 4500\n"
     ]
    }
   ],
   "source": [
    "Lx = 100.0   # width of the mantle in the x direction []\n",
    "Ly = 100.0   # thickness of the mantle in the y direction []\n",
    "nx = 401     # number of points in the x direction\n",
    "ny = 401     # number of points in the y direction\n",
    "dx = Lx / (nx - 1)  # grid spacing in the x direction []\n",
    "dy = Ly / (ny - 1)  # grid spacing in the y direction []\n",
    "g = 9.81  # gravity acceleration [m/s^2]\n",
    "alpha = 0.025 # friction coefficient for natural channels in good condition\n",
    "# Maximum wave propagation time [s]\n",
    "Tmax = 1.\n",
    "dt = 1/4500.\n",
    "nt = (int)(Tmax/dt)\n",
    "print(dt, nt)"
   ]
  },
  {
   "cell_type": "code",
   "execution_count": 3,
   "id": "616b3e9e-ea3c-4337-addf-233be8daf0fa",
   "metadata": {},
   "outputs": [
    {
     "name": "stderr",
     "output_type": "stream",
     "text": [
      "Allocating memory for N(2, 405, 405)\n"
     ]
    },
    {
     "name": "stdout",
     "output_type": "stream",
     "text": [
      "(2, 401, 401)\n"
     ]
    }
   ],
   "source": [
    "from devito import Grid, TimeFunction, Function\n",
    "\n",
    "grid = Grid(shape=(ny, nx), extent=(Ly, Lx))\n",
    "eta = TimeFunction(name='eta', grid=grid, space_order=2)\n",
    "M  = TimeFunction(name='M', grid=grid, space_order=2)\n",
    "N  = TimeFunction(name='N', grid=grid, space_order=2)\n",
    "h  = Function(name='h', grid=grid)\n",
    "D  = Function(name='D', grid=grid)\n",
    "\n",
    "print(N.data.shape)"
   ]
  },
  {
   "cell_type": "code",
   "execution_count": 4,
   "id": "837f2ae7-ac63-483e-8e23-75b45f448c8e",
   "metadata": {},
   "outputs": [
    {
     "name": "stderr",
     "output_type": "stream",
     "text": [
      "Allocating memory for h(403, 403)\n"
     ]
    }
   ],
   "source": [
    "import numpy\n",
    "# Define the locations along a gridline.\n",
    "x = numpy.linspace(0.0, Lx, num=nx)\n",
    "y = numpy.linspace(0.0, Ly, num=ny)\n",
    "\n",
    "# Define initial eta, M, N\n",
    "X, Y = numpy.meshgrid(x,y) # coordinates X,Y required to define eta, h, M, N\n",
    "\n",
    "# Define constant ocean depth profile h = 50 m\n",
    "h.data[:] = 50\n",
    "\n",
    "# Define initial eta Gaussian distribution [m]\n",
    "eta0 = 0.5 * numpy.exp(-((X-50)**2/10)-((Y-50)**2/10))\n",
    "\n",
    "# Define initial M and N\n",
    "M0 = 100. * eta0\n",
    "N0 = 0. * M0\n",
    "D0 = eta0 + 50."
   ]
  },
  {
   "cell_type": "code",
   "execution_count": 5,
   "id": "13d5bb74-29b7-411a-863f-59992b8e960d",
   "metadata": {},
   "outputs": [
    {
     "name": "stderr",
     "output_type": "stream",
     "text": [
      "Allocating memory for eta(2, 405, 405)\n",
      "Allocating memory for M(2, 405, 405)\n",
      "Allocating memory for D(403, 403)\n"
     ]
    },
    {
     "name": "stdout",
     "output_type": "stream",
     "text": [
      "(401, 401) (401, 401)\n"
     ]
    }
   ],
   "source": [
    "eta.data[0] = eta0.copy()\n",
    "M.data[0]   = M0.copy()\n",
    "N.data[0]   = N0.copy()\n",
    "D.data[:] = D0.copy()\n",
    "\n",
    "print(eta0.shape, h.data.shape)"
   ]
  },
  {
   "cell_type": "code",
   "execution_count": 6,
   "id": "a16bcd3e-b0b2-47db-bec6-1e0e047ea56d",
   "metadata": {},
   "outputs": [
    {
     "data": {
      "text/latex": [
       "$\\displaystyle \\frac{0.00613125 \\sqrt{M^{2}{\\left(t,x,y \\right)} + N^{2}{\\left(t,x,y \\right)}}}{D^{2.33333333333333}{\\left(x,y \\right)}}$"
      ],
      "text/plain": [
       "0.00613125*sqrt(M(t, x, y)**2 + N(t, x, y)**2)*D(x, y)**(-2.33333333333333)"
      ]
     },
     "execution_count": 6,
     "metadata": {},
     "output_type": "execute_result"
    }
   ],
   "source": [
    "from devito import sqrt\n",
    "frictionTerm = g * alpha**2 * sqrt(M**2 + N**2 ) / D**(7./3.)\n",
    "frictionTerm"
   ]
  },
  {
   "cell_type": "code",
   "execution_count": 7,
   "id": "d430cf9b-1a80-45ec-9aca-8e76b5de5911",
   "metadata": {},
   "outputs": [
    {
     "data": {
      "text/latex": [
       "$\\displaystyle \\eta{\\left(t + dt,x,y \\right)} = dt \\left(- \\frac{\\partial}{\\partial x} M{\\left(t,x,y \\right)} - \\frac{\\partial}{\\partial y} N{\\left(t,x,y \\right)} + \\frac{\\eta{\\left(t,x,y \\right)}}{dt}\\right)$"
      ],
      "text/plain": [
       "Eq(eta(t + dt, x, y), dt*(-Derivative(M(t, x, y), x) - Derivative(N(t, x, y), y) + eta(t, x, y)/dt))"
      ]
     },
     "execution_count": 7,
     "metadata": {},
     "output_type": "execute_result"
    }
   ],
   "source": [
    "from devito import Eq, solve\n",
    "pde_eta = Eq(eta.dt + M.dxc + N.dyc)\n",
    "pde_M   = Eq(M.dt + (M**2/D).dxc + (M*N/D).dyc + g*D*eta.forward.dxc + frictionTerm*M)\n",
    "pde_N   = Eq(N.dt + (M*N/D).dxc + (N**2/D).dyc + g*D*eta.forward.dyc + frictionTerm*N)\n",
    "\n",
    "# Defining boundary conditions\n",
    "x, y = grid.dimensions\n",
    "t = grid.stepping_dim\n",
    "bc_left   = Eq(eta[t+1, 0, y], eta[t+1, 1, y])\n",
    "bc_right  = Eq(eta[t+1, nx-1, y], eta[t+1, nx-2, y])\n",
    "bc_top    = Eq(eta[t+1, x, 0], eta[t+1, x, 1])\n",
    "bc_bottom = Eq(eta[t+1, x, ny-1], eta[t+1, x, ny-2])\n",
    "\n",
    "stencil_eta = solve(pde_eta, eta.forward)\n",
    "stencil_M   = solve(pde_M, M.forward)\n",
    "stencil_N   = solve(pde_N, N.forward)\n",
    "\n",
    "update_eta  = Eq(eta.forward, stencil_eta, subdomain=grid.interior)\n",
    "update_M    = Eq(M.forward, stencil_M, subdomain=grid.interior)\n",
    "update_N    = Eq(N.forward, stencil_N, subdomain=grid.interior)\n",
    "eq_D        = Eq(D, eta.forward + h)\n",
    "\n",
    "update_eta"
   ]
  },
  {
   "cell_type": "code",
   "execution_count": 8,
   "id": "11d6cc76-b865-4636-a7a4-b83185c6f0ff",
   "metadata": {},
   "outputs": [
    {
     "data": {
      "text/latex": [
       "$\\displaystyle M{\\left(t + dt,x,y \\right)} = dt \\left(- \\frac{0.00613125 \\sqrt{M^{2}{\\left(t,x,y \\right)} + N^{2}{\\left(t,x,y \\right)}} M{\\left(t,x,y \\right)}}{D^{2.33333333333333}{\\left(x,y \\right)}} - 9.81 D{\\left(x,y \\right)} \\frac{\\partial}{\\partial x} \\eta{\\left(t + dt,x,y \\right)} - \\frac{\\partial}{\\partial x} \\frac{M^{2}{\\left(t,x,y \\right)}}{D{\\left(x,y \\right)}} - \\frac{\\partial}{\\partial y} \\frac{M{\\left(t,x,y \\right)} N{\\left(t,x,y \\right)}}{D{\\left(x,y \\right)}} + \\frac{M{\\left(t,x,y \\right)}}{dt}\\right)$"
      ],
      "text/plain": [
       "Eq(M(t + dt, x, y), dt*(-0.00613125*sqrt(M(t, x, y)**2 + N(t, x, y)**2)*D(x, y)**(-2.33333333333333)*M(t, x, y) - 9.81*D(x, y)*Derivative(eta(t + dt, x, y), x) - Derivative(M(t, x, y)**2/D(x, y), x) - Derivative(M(t, x, y)*N(t, x, y)/D(x, y), y) + M(t, x, y)/dt))"
      ]
     },
     "execution_count": 8,
     "metadata": {},
     "output_type": "execute_result"
    }
   ],
   "source": [
    "update_M"
   ]
  },
  {
   "cell_type": "code",
   "execution_count": 9,
   "id": "79ce2625-7ce5-4268-9356-2bcc1e63a3de",
   "metadata": {},
   "outputs": [
    {
     "data": {
      "text/latex": [
       "$\\displaystyle N{\\left(t + dt,x,y \\right)} = dt \\left(- \\frac{0.00613125 \\sqrt{M^{2}{\\left(t,x,y \\right)} + N^{2}{\\left(t,x,y \\right)}} N{\\left(t,x,y \\right)}}{D^{2.33333333333333}{\\left(x,y \\right)}} - 9.81 D{\\left(x,y \\right)} \\frac{\\partial}{\\partial y} \\eta{\\left(t + dt,x,y \\right)} - \\frac{\\partial}{\\partial y} \\frac{N^{2}{\\left(t,x,y \\right)}}{D{\\left(x,y \\right)}} - \\frac{\\partial}{\\partial x} \\frac{M{\\left(t,x,y \\right)} N{\\left(t,x,y \\right)}}{D{\\left(x,y \\right)}} + \\frac{N{\\left(t,x,y \\right)}}{dt}\\right)$"
      ],
      "text/plain": [
       "Eq(N(t + dt, x, y), dt*(-0.00613125*sqrt(M(t, x, y)**2 + N(t, x, y)**2)*D(x, y)**(-2.33333333333333)*N(t, x, y) - 9.81*D(x, y)*Derivative(eta(t + dt, x, y), y) - Derivative(N(t, x, y)**2/D(x, y), y) - Derivative(M(t, x, y)*N(t, x, y)/D(x, y), x) + N(t, x, y)/dt))"
      ]
     },
     "execution_count": 9,
     "metadata": {},
     "output_type": "execute_result"
    }
   ],
   "source": [
    "update_N"
   ]
  },
  {
   "cell_type": "code",
   "execution_count": 10,
   "id": "4813fb3c-6d7c-4259-b161-e43cfd8e263f",
   "metadata": {},
   "outputs": [
    {
     "name": "stderr",
     "output_type": "stream",
     "text": [
      "Operator `Kernel` generated in 1.31 s\n",
      "  * lowering.Clusters: 0.73 s (56.0 %)\n",
      "     * specializing.Clusters: 0.60 s (46.1 %)\n",
      "        * factorize: 0.39 s (30.0 %)\n",
      "  * lowering.IET: 0.30 s (23.1 %)\n",
      "Flops reduction after symbolic optimization: [112 --> 75]\n"
     ]
    }
   ],
   "source": [
    "from devito import Operator\n",
    "\n",
    "optime = Operator([update_eta, bc_left, bc_right, bc_top, bc_bottom,\n",
    "                   update_M, update_N, eq_D])"
   ]
  },
  {
   "cell_type": "code",
   "execution_count": 12,
   "id": "dffd8ef1-6fff-4342-b0fd-785620f343ac",
   "metadata": {},
   "outputs": [
    {
     "data": {
      "text/plain": [
       "<matplotlib.image.AxesImage at 0x7f938d186f10>"
      ]
     },
     "execution_count": 12,
     "metadata": {},
     "output_type": "execute_result"
    },
    {
     "data": {
      "image/png": "[encoded data removed]",
      "text/plain": [
       "<Figure size 432x288 with 1 Axes>"
      ]
     },
     "metadata": {
      "needs_background": "light"
     },
     "output_type": "display_data"
    }
   ],
   "source": [
    "plt.imshow(eta.data[0])"
   ]
  },
  {
   "cell_type": "code",
   "execution_count": 13,
   "id": "f40c2e04-64ea-4faf-849f-25bccf235032",
   "metadata": {},
   "outputs": [
    {
     "data": {
      "text/plain": [
       "<matplotlib.image.AxesImage at 0x7f938d09a390>"
      ]
     },
     "execution_count": 13,
     "metadata": {},
     "output_type": "execute_result"
    },
    {
     "data": {
      "image/png": "[encoded data removed]",
      "text/plain": [
       "<Figure size 432x288 with 1 Axes>"
      ]
     },
     "metadata": {
      "needs_background": "light"
     },
     "output_type": "display_data"
    }
   ],
   "source": [
    "plt.imshow(M.data[0])"
   ]
  },
  {
   "cell_type": "code",
   "execution_count": 14,
   "id": "c4a19a90-6daa-4c65-878c-c5b06b1227c5",
   "metadata": {},
   "outputs": [
    {
     "data": {
      "text/plain": [
       "<matplotlib.image.AxesImage at 0x7f938d021d50>"
      ]
     },
     "execution_count": 14,
     "metadata": {},
     "output_type": "execute_result"
    },
    {
     "data": {
      "image/png": "[encoded data removed]",
      "text/plain": [
       "<Figure size 432x288 with 1 Axes>"
      ]
     },
     "metadata": {
      "needs_background": "light"
     },
     "output_type": "display_data"
    }
   ],
   "source": [
    "plt.imshow(N.data[0])"
   ]
  },
  {
   "cell_type": "code",
   "execution_count": 15,
   "id": "701159a6-ddde-4c9a-94a6-e8a0d367547d",
   "metadata": {},
   "outputs": [
    {
     "name": "stdout",
     "output_type": "stream",
     "text": [
      "#define _POSIX_C_SOURCE 200809L\n",
      "#define START_TIMER(S) struct timeval start_ ## S , end_ ## S ; gettimeofday(&start_ ## S , NULL);\n",
      "#define STOP_TIMER(S,T) gettimeofday(&end_ ## S, NULL); T->S += (double)(end_ ## S .tv_sec-start_ ## S.tv_sec)+(double)(end_ ## S .tv_usec-start_ ## S .tv_usec)/1000000;\n",
      "\n",
      "#include \"stdlib.h\"\n",
      "#include \"math.h\"\n",
      "#include \"sys/time.h\"\n",
      "#include \"xmmintrin.h\"\n",
      "#include \"pmmintrin.h\"\n",
      "\n",
      "struct dataobj\n",
      "{\n",
      "  void *restrict data;\n",
      "  int * size;\n",
      "  int * npsize;\n",
      "  int * dsize;\n",
      "  int * hsize;\n",
      "  int * hofs;\n",
      "  int * oofs;\n",
      "} ;\n",
      "\n",
      "struct profiler\n",
      "{\n",
      "  double section0;\n",
      "  double section1;\n",
      "  double section2;\n",
      "} ;\n",
      "\n",
      "\n",
      "int Kernel(struct dataobj *restrict D_vec, struct dataobj *restrict M_vec, struct dataobj *restrict N_vec, const float dt, struct dataobj *restrict eta_vec, struct dataobj *restrict h_vec, const float h_x, const float h_y, const int i0x_ltkn, const int i0x_rtkn, const int i0y_ltkn, const int i0y_rtkn, const int time_M, const int time_m, const int x_M, const int x_m, const int y_M, const int y_m, struct profiler * timers)\n",
      "{\n",
      "  float (*restrict D)[D_vec->size[1]] __attribute__ ((aligned (64))) = (float (*)[D_vec->size[1]]) D_vec->data;\n",
      "  float (*restrict M)[M_vec->size[1]][M_vec->size[2]] __attribute__ ((aligned (64))) = (float (*)[M_vec->size[1]][M_vec->size[2]]) M_vec->data;\n",
      "  float (*restrict N)[N_vec->size[1]][N_vec->size[2]] __attribute__ ((aligned (64))) = (float (*)[N_vec->size[1]][N_vec->size[2]]) N_vec->data;\n",
      "  float (*restrict eta)[eta_vec->size[1]][eta_vec->size[2]] __attribute__ ((aligned (64))) = (float (*)[eta_vec->size[1]][eta_vec->size[2]]) eta_vec->data;\n",
      "  float (*restrict h)[h_vec->size[1]] __attribute__ ((aligned (64))) = (float (*)[h_vec->size[1]]) h_vec->data;\n",
      "\n",
      "  /* Flush denormal numbers to zero in hardware */\n",
      "  _MM_SET_DENORMALS_ZERO_MODE(_MM_DENORMALS_ZERO_ON);\n",
      "  _MM_SET_FLUSH_ZERO_MODE(_MM_FLUSH_ZERO_ON);\n",
      "\n",
      "  for (int time = time_m, t0 = (time)%(2), t1 = (time + 1)%(2); time <= time_M; time += 1, t0 = (time)%(2), t1 = (time + 1)%(2))\n",
      "  {\n",
      "    /* Begin section0 */\n",
      "    START_TIMER(section0)\n",
      "    for (int i0x = i0x_ltkn + x_m; i0x <= -i0x_rtkn + x_M; i0x += 1)\n",
      "    {\n",
      "      #pragma omp simd aligned(M,N,eta:32)\n",
      "      for (int i0y = i0y_ltkn + y_m; i0y <= -i0y_rtkn + y_M; i0y += 1)\n",
      "      {\n",
      "        eta[t1][i0x + 2][i0y + 2] = dt*((5.0e-1F*(N[t0][i0x + 2][i0y + 1] - N[t0][i0x + 2][i0y + 3]))/h_y + (5.0e-1F*(M[t0][i0x + 1][i0y + 2] - M[t0][i0x + 3][i0y + 2]))/h_x + eta[t0][i0x + 2][i0y + 2]/dt);\n",
      "      }\n",
      "    }\n",
      "    STOP_TIMER(section0,timers)\n",
      "    /* End section0 */\n",
      "    /* Begin section1 */\n",
      "    START_TIMER(section1)\n",
      "    for (int y = y_m; y <= y_M; y += 1)\n",
      "    {\n",
      "      eta[t1][2][y + 2] = eta[t1][3][y + 2];\n",
      "      eta[t1][402][y + 2] = eta[t1][401][y + 2];\n",
      "    }\n",
      "    STOP_TIMER(section1,timers)\n",
      "    /* End section1 */\n",
      "    /* Begin section2 */\n",
      "    START_TIMER(section2)\n",
      "    for (int x = x_m; x <= x_M; x += 1)\n",
      "    {\n",
      "      eta[t1][x + 2][2] = eta[t1][x + 2][3];\n",
      "      eta[t1][x + 2][402] = eta[t1][x + 2][401];\n",
      "    }\n",
      "    for (int i0x = i0x_ltkn + x_m; i0x <= -i0x_rtkn + x_M; i0x += 1)\n",
      "    {\n",
      "      #pragma omp simd aligned(D,M,N,eta:32)\n",
      "      for (int i0y = i0y_ltkn + y_m; i0y <= -i0y_rtkn + y_M; i0y += 1)\n",
      "      {\n",
      "        float r7 = 1.0F/dt;\n",
      "        float r6 = 1.0F/h_y;\n",
      "        float r5 = 1.0F/h_x;\n",
      "        float r4 = 1.0F/D[i0x + 1][i0y + 2];\n",
      "        float r3 = 1.0F/D[i0x + 2][i0y + 1];\n",
      "        float r2 = 1.0F/D[i0x + 1][i0y + 1];\n",
      "        float r1 = pow(D[i0x + 1][i0y + 1], -2.33333333333333F);\n",
      "        float r0 = sqrt(pow(M[t0][i0x + 2][i0y + 2], 2) + pow(N[t0][i0x + 2][i0y + 2], 2));\n",
      "        M[t1][i0x + 2][i0y + 2] = dt*(r0*(-6.13125e-3F*r1*M[t0][i0x + 2][i0y + 2]) + r2*(r5*(M[t0][i0x + 2][i0y + 2]*M[t0][i0x + 2][i0y + 2]) + r6*M[t0][i0x + 2][i0y + 2]*N[t0][i0x + 2][i0y + 2]) + r5*(-r3*M[t0][i0x + 3][i0y + 2]*M[t0][i0x + 3][i0y + 2] - 4.905F*(-eta[t1][i0x + 1][i0y + 2] + eta[t1][i0x + 3][i0y + 2])*D[i0x + 1][i0y + 1]) + r6*(-r4*M[t0][i0x + 2][i0y + 3]*N[t0][i0x + 2][i0y + 3]) + r7*M[t0][i0x + 2][i0y + 2]);\n",
      "        N[t1][i0x + 2][i0y + 2] = dt*(r0*(-6.13125e-3F*r1*N[t0][i0x + 2][i0y + 2]) + r2*(r5*M[t0][i0x + 2][i0y + 2]*N[t0][i0x + 2][i0y + 2] + r6*(N[t0][i0x + 2][i0y + 2]*N[t0][i0x + 2][i0y + 2])) + r5*(-r3*M[t0][i0x + 3][i0y + 2]*N[t0][i0x + 3][i0y + 2]) + r6*(-r4*N[t0][i0x + 2][i0y + 3]*N[t0][i0x + 2][i0y + 3] - 4.905F*(-eta[t1][i0x + 2][i0y + 1] + eta[t1][i0x + 2][i0y + 3])*D[i0x + 1][i0y + 1]) + r7*N[t0][i0x + 2][i0y + 2]);\n",
      "      }\n",
      "    }\n",
      "    for (int x = x_m; x <= x_M; x += 1)\n",
      "    {\n",
      "      #pragma omp simd aligned(D,eta,h:32)\n",
      "      for (int y = y_m; y <= y_M; y += 1)\n",
      "      {\n",
      "        D[x + 1][y + 1] = h[x + 1][y + 1] + eta[t1][x + 2][y + 2];\n",
      "      }\n",
      "    }\n",
      "    STOP_TIMER(section2,timers)\n",
      "    /* End section2 */\n",
      "  }\n",
      "\n",
      "  return 0;\n",
      "}\n",
      "\n"
     ]
    }
   ],
   "source": [
    "print(optime.ccode)"
   ]
  },
  {
   "cell_type": "code",
   "execution_count": 16,
   "id": "7e059b19-94ab-49d0-ba90-cf453e72eb3f",
   "metadata": {},
   "outputs": [
    {
     "name": "stderr",
     "output_type": "stream",
     "text": [
      "Operator `Kernel` fetched `/run/user/1001/devito-jitcache-uid1001/ab6ad50fffe8ed6008e4de7bd97b70a6fa707a7a.c` in 0.02 s from jit-cache\n",
      "Operator `Kernel` ran in 38.91 s\n",
      "Global performance: [OI=0.01, 1.39 GFlops/s, 0.02 GPts/s]\n",
      "Local performance:\n",
      "  * section0<4501,399,399> ran in 5.74 s [OI=0.82, 1.63 GFlops/s, 0.13 GPts/s]\n",
      "  * section2<<4501,401>,<4501,399,399>,<4501,401,401>> ran in 33.17 s [OI=0.01, 1.34 GFlops/s, 0.03 GPts/s]\n",
      "Performance[mode=advanced] arguments: {}\n"
     ]
    },
    {
     "data": {
      "text/plain": [
       "<matplotlib.image.AxesImage at 0x7f938af6f250>"
      ]
     },
     "execution_count": 16,
     "metadata": {},
     "output_type": "execute_result"
    },
    {
     "data": {
      "image/png": "[encoded data removed]",
      "text/plain": [
       "<Figure size 432x288 with 1 Axes>"
      ]
     },
     "metadata": {
      "needs_background": "light"
     },
     "output_type": "display_data"
    }
   ],
   "source": [
    "optime(time=nt, dt=dt)\n",
    "plt.imshow(eta.data[1])"
   ]
  },
  {
   "cell_type": "code",
   "execution_count": 16,
   "id": "deb29b52-63d1-4a4e-b70a-ebdd6a5bfe6c",
   "metadata": {},
   "outputs": [
    {
     "data": {
      "text/plain": [
       "<matplotlib.image.AxesImage at 0x7f99f73eadd0>"
      ]
     },
     "execution_count": 16,
     "metadata": {},
     "output_type": "execute_result"
    },
    {
     "data": {
      "image/png": "[encoded data removed]",
      "text/plain": [
       "<Figure size 432x288 with 1 Axes>"
      ]
     },
     "metadata": {
      "needs_background": "light"
     },
     "output_type": "display_data"
    }
   ],
   "source": [
    "plt.imshow(N.data[1])"
   ]
  },
  {
   "cell_type": "code",
   "execution_count": 17,
   "id": "b2c9958e-f7e6-4156-8f08-f094970433c9",
   "metadata": {},
   "outputs": [
    {
     "data": {
      "text/plain": [
       "<matplotlib.image.AxesImage at 0x7f99f2e92a50>"
      ]
     },
     "execution_count": 17,
     "metadata": {},
     "output_type": "execute_result"
    },
    {
     "data": {
      "image/png": "[encoded data removed]",
      "text/plain": [
       "<Figure size 432x288 with 1 Axes>"
      ]
     },
     "metadata": {
      "needs_background": "light"
     },
     "output_type": "display_data"
    }
   ],
   "source": [
    "plt.imshow(M.data[1])"
   ]
  },
  {
   "cell_type": "code",
   "execution_count": 53,
   "id": "d6fd5c65-ab46-4eea-ac5d-6f82934a4c7a",
   "metadata": {},
   "outputs": [],
   "source": [
    "from devito import Grid, TimeFunction, Function, sqrt, Eq, solve, Operator\n",
    "import numpy\n",
    "def Shallow_water_2D(eta0, M0, N0, h0, g, alpha, nt, dx, dy, dt):\n",
    "    \"\"\"\n",
    "    Computes and returns the discharge fluxes M, N and wave height eta from \n",
    "    the 2D Shallow water equation using the FTCS finite difference method.\n",
    "    \n",
    "    Parameters\n",
    "    ----------\n",
    "    eta0 : numpy.ndarray\n",
    "        The initial wave height field as a 2D array of floats.\n",
    "    M0 : numpy.ndarray\n",
    "        The initial discharge flux field in x-direction as a 2D array of floats.    \n",
    "    N0 : numpy.ndarray\n",
    "        The initial discharge flux field in y-direction as a 2D array of floats.    \n",
    "    h : numpy.ndarray\n",
    "        Bathymetry model as a 2D array of floats.\n",
    "    g : float\n",
    "        gravity acceleration.\n",
    "    alpha : float\n",
    "        Manning's roughness coefficient.\n",
    "    nt : integer\n",
    "        Number fo timesteps.\n",
    "    dx : float\n",
    "        Spatial gridpoint distance in x-direction.\n",
    "    dy : float\n",
    "        Spatial gridpoint distance in y-direction.        \n",
    "    dt : float\n",
    "        Time step.\n",
    "    \"\"\"\n",
    "    grid = Grid(shape=(ny, nx), extent=(Ly, Lx))\n",
    "    eta = TimeFunction(name='eta', grid=grid, space_order=2)\n",
    "    M   = TimeFunction(name='M', grid=grid, space_order=2)\n",
    "    N   = TimeFunction(name='N', grid=grid, space_order=2)\n",
    "    h   = Function(name='h', grid=grid)\n",
    "    D   = Function(name='D', grid=grid)\n",
    "    \n",
    "    D0 = eta0.copy() + h0.copy()\n",
    "    \n",
    "    eta.data[0] = eta0.copy()\n",
    "    M.data[0]   = M0.copy()\n",
    "    N.data[0]   = N0.copy()\n",
    "    D.data[:]   = D0.copy()\n",
    "    \n",
    "    frictionTerm = g * alpha**2 * sqrt(M**2 + N**2 ) / D**(7./3.)\n",
    "\n",
    "    pde_eta = Eq(eta.dt + M.dxc + N.dyc)\n",
    "    pde_M   = Eq(M.dt + (M**2/D).dxc + (M*N/D).dyc + g*D*eta.forward.dxc + frictionTerm*M)\n",
    "    pde_N   = Eq(N.dt + (M*N/D).dxc + (N**2/D).dyc + g*D*eta.forward.dyc + frictionTerm*N)\n",
    "\n",
    "    # Defining boundary conditions\n",
    "    x, y       = grid.dimensions\n",
    "    t          = grid.stepping_dim\n",
    "    bc_left    = Eq(eta[t+1, 0, y], eta[t+1, 1, y])\n",
    "    bc_right   = Eq(eta[t+1, nx-1, y], eta[t+1, nx-2, y])\n",
    "    bc_top     = Eq(eta[t+1, x, 0], eta[t+1, x, 1])\n",
    "    bc_bottom  = Eq(eta[t+1, x, ny-1], eta[t+1, x, ny-2])\n",
    "    \n",
    "    stencil_eta = solve(pde_eta, eta.forward)\n",
    "    stencil_M   = solve(pde_M, M.forward)\n",
    "    stencil_N   = solve(pde_N, N.forward)\n",
    "\n",
    "    update_eta  = Eq(eta.forward, stencil_eta, subdomain=grid.interior)\n",
    "    update_M    = Eq(M.forward, stencil_M, subdomain=grid.interior)\n",
    "    update_N    = Eq(N.forward, stencil_N, subdomain=grid.interior)\n",
    "    eq_D        = Eq(D, eta.forward + h)\n",
    "\n",
    "    optime = Operator([update_eta, bc_left, bc_right, bc_top, bc_bottom,\n",
    "                       update_M, update_N, eq_D])\n",
    "    \n",
    "    op(time=nt, dt=dt)\n",
    "    print(eta.data[1])\n",
    "    return eta.data[1]"
   ]
  },
  {
   "cell_type": "markdown",
   "id": "276092d0-37a1-4d93-916d-f65c7c66276a",
   "metadata": {},
   "source": [
    "## Example I: Tsunami in an ocean with constant depth\n",
    "\n",
    "After writing the `Shallow_water_2D` code and all the required functions attached to it, we can define and run our first 2D Tsunami modelling run.\n",
    "\n",
    "Let's assume that the ocean model is $ L_x = 100\\; m$ in x-direction and $L_y = 100\\; m$ in y-direction. The model is discretized with $nx=401$ gridpoints in x-direction and $ny=401$ gridpoints in y-direction, respectively.\n",
    "\n",
    "In this first modelling run, we assume a constant bathymetry $h=50\\;m$. The initial wave height field $\\eta_0$ is defined as a Gaussian at the center of the model, with a half-width of 10 m and an amplitude of 0.5 m. Regarding the initial discharge fluxes, we assume that \n",
    "\n",
    "\\begin{equation}\n",
    "\\begin{split}\n",
    "M_0(x,y) &= 100 \\eta_0(x,y)\\\\\n",
    "N_0(x,y) &= 0\\\\\n",
    "\\end{split}\\notag\n",
    "\\end{equation}\n",
    "\n",
    "Furthermore, Dirichlet boundary conditions for the discharge fluxes $M,\\;N$ are assumed at all boundaries: \n",
    "\n",
    "\\begin{equation}\n",
    "\\begin{split}\n",
    "M(0,y) &= M(L_x,y) = M(x,0) = M(x,L_y) = 0\\\\  \n",
    "N(0,y) &= N(L_x,y) = N(x,0) = N(x,L_y) = 0\\\\  \n",
    "\\end{split} \\notag\n",
    "\\end{equation}\n",
    "\n",
    "For the wave height field $\\eta$, it is essential that Neumann boundary conditions are set at all boundaries:\n",
    "\n",
    "\\begin{equation}\n",
    "\\begin{split}\n",
    "&\\frac{\\partial \\eta}{\\partial x}(0,y) = 0\\\\\n",
    "&\\frac{\\partial \\eta}{\\partial x}(L_x,y) = 0\\\\\n",
    "&\\frac{\\partial \\eta}{\\partial y}(x,0) = 0\\\\\n",
    "&\\frac{\\partial \\eta}{\\partial y}(x,L_y) = 0\\\\\n",
    "\\end{split}\\notag\n",
    "\\end{equation}\n",
    "\n",
    "in order to avoid the occurence of high frequency artifacts, when waves are interacting with the boundaries. Notice, that the assumed boundary conditions lead to significant boundary reflections which might be not realistic for a given problem. However, to keep the problem simple, we will not try to mitigate the boundary reflections. "
   ]
  },
  {
   "cell_type": "code",
   "execution_count": 54,
   "id": "12d3275c-e130-4a5c-b94f-7a765b2209fd",
   "metadata": {},
   "outputs": [
    {
     "name": "stdout",
     "output_type": "stream",
     "text": [
      "0.00022222222222222223 4500\n"
     ]
    }
   ],
   "source": [
    "Lx = 100.0   # width of the mantle in the x direction []\n",
    "Ly = 100.0   # thickness of the mantle in the y direction []\n",
    "nx = 401     # number of points in the x direction\n",
    "ny = 401     # number of points in the y direction\n",
    "dx = Lx / (nx - 1)  # grid spacing in the x direction []\n",
    "dy = Ly / (ny - 1)  # grid spacing in the y direction []\n",
    "g = 9.81  # gravity acceleration [m/s^2]\n",
    "alpha = 0.025 # friction coefficient for natural channels in good condition\n",
    "# Maximum wave propagation time [s]\n",
    "Tmax = 1.\n",
    "dt = 1/4500.\n",
    "nt = (int)(Tmax/dt)\n",
    "print(dt, nt)"
   ]
  },
  {
   "cell_type": "code",
   "execution_count": 55,
   "id": "add5d683-c047-446c-8102-c566961a865d",
   "metadata": {
    "tags": []
   },
   "outputs": [],
   "source": [
    "# Define the locations along a gridline.\n",
    "x = numpy.linspace(0.0, Lx, num=nx)\n",
    "y = numpy.linspace(0.0, Ly, num=ny)\n",
    "\n",
    "# Define initial eta, M, N\n",
    "X, Y = numpy.meshgrid(x,y) # coordinates X,Y required to define eta, h, M, N\n",
    "\n",
    "# Define constant ocean depth profile h = 50 m\n",
    "h0 = 50. * numpy.ones_like(X)\n",
    "\n",
    "# Define initial eta Gaussian distribution [m]\n",
    "eta0 = 0.5 * numpy.exp(-((X-50)**2/10)-((Y-50)**2/10))\n",
    "\n",
    "# Define initial M and N\n",
    "M0 = 100. * eta0\n",
    "N0 = 0. * M0\n",
    "D0 = eta0 + 50."
   ]
  },
  {
   "cell_type": "code",
   "execution_count": 56,
   "id": "7e514808-636d-407e-9b4e-a64d43ece3e3",
   "metadata": {},
   "outputs": [
    {
     "name": "stderr",
     "output_type": "stream",
     "text": [
      "Operator `Kernel` ran in 23.08 s\n"
     ]
    },
    {
     "name": "stdout",
     "output_type": "stream",
     "text": [
      "[[0. 0. 0. ... 0. 0. 0.]\n",
      " [0. 0. 0. ... 0. 0. 0.]\n",
      " [0. 0. 0. ... 0. 0. 0.]\n",
      " ...\n",
      " [0. 0. 0. ... 0. 0. 0.]\n",
      " [0. 0. 0. ... 0. 0. 0.]\n",
      " [0. 0. 0. ... 0. 0. 0.]]\n"
     ]
    },
    {
     "data": {
      "text/plain": [
       "<matplotlib.image.AxesImage at 0x7f99fc58b810>"
      ]
     },
     "execution_count": 56,
     "metadata": {},
     "output_type": "execute_result"
    },
    {
     "data": {
      "image/png": "[encoded data removed]",
      "text/plain": [
       "<Figure size 432x288 with 1 Axes>"
      ]
     },
     "metadata": {
      "needs_background": "light"
     },
     "output_type": "display_data"
    }
   ],
   "source": [
    "eta = Shallow_water_2D(eta0, M0, N0, h0, g, alpha, nt, dx, dy, dt)\n",
    "\n",
    "#print(eta.data[0])\n",
    "plt.imshow(eta)"
   ]
  },
  {
   "cell_type": "code",
   "execution_count": 26,
   "id": "2a11baa7-6a19-4a0c-8c7f-d1ac678e106c",
   "metadata": {},
   "outputs": [
    {
     "name": "stdout",
     "output_type": "stream",
     "text": [
      "#define _POSIX_C_SOURCE 200809L\n",
      "#define START_TIMER(S) struct timeval start_ ## S , end_ ## S ; gettimeofday(&start_ ## S , NULL);\n",
      "#define STOP_TIMER(S,T) gettimeofday(&end_ ## S, NULL); T->S += (double)(end_ ## S .tv_sec-start_ ## S.tv_sec)+(double)(end_ ## S .tv_usec-start_ ## S .tv_usec)/1000000;\n",
      "\n",
      "#include \"stdlib.h\"\n",
      "#include \"math.h\"\n",
      "#include \"sys/time.h\"\n",
      "#include \"xmmintrin.h\"\n",
      "#include \"pmmintrin.h\"\n",
      "\n",
      "struct dataobj\n",
      "{\n",
      "  void *restrict data;\n",
      "  int * size;\n",
      "  int * npsize;\n",
      "  int * dsize;\n",
      "  int * hsize;\n",
      "  int * hofs;\n",
      "  int * oofs;\n",
      "} ;\n",
      "\n",
      "struct profiler\n",
      "{\n",
      "  double section0;\n",
      "  double section1;\n",
      "  double section2;\n",
      "} ;\n",
      "\n",
      "\n",
      "int Kernel(struct dataobj *restrict D_vec, struct dataobj *restrict M_vec, struct dataobj *restrict N_vec, const float dt, struct dataobj *restrict eta_vec, struct dataobj *restrict h_vec, const float h_x, const float h_y, const int i0x_ltkn, const int i0x_rtkn, const int i0y_ltkn, const int i0y_rtkn, const int time_M, const int time_m, const int x_M, const int x_m, const int y_M, const int y_m, struct profiler * timers)\n",
      "{\n",
      "  float (*restrict D)[D_vec->size[1]] __attribute__ ((aligned (64))) = (float (*)[D_vec->size[1]]) D_vec->data;\n",
      "  float (*restrict M)[M_vec->size[1]][M_vec->size[2]] __attribute__ ((aligned (64))) = (float (*)[M_vec->size[1]][M_vec->size[2]]) M_vec->data;\n",
      "  float (*restrict N)[N_vec->size[1]][N_vec->size[2]] __attribute__ ((aligned (64))) = (float (*)[N_vec->size[1]][N_vec->size[2]]) N_vec->data;\n",
      "  float (*restrict eta)[eta_vec->size[1]][eta_vec->size[2]] __attribute__ ((aligned (64))) = (float (*)[eta_vec->size[1]][eta_vec->size[2]]) eta_vec->data;\n",
      "  float (*restrict h)[h_vec->size[1]] __attribute__ ((aligned (64))) = (float (*)[h_vec->size[1]]) h_vec->data;\n",
      "\n",
      "  /* Flush denormal numbers to zero in hardware */\n",
      "  _MM_SET_DENORMALS_ZERO_MODE(_MM_DENORMALS_ZERO_ON);\n",
      "  _MM_SET_FLUSH_ZERO_MODE(_MM_FLUSH_ZERO_ON);\n",
      "\n",
      "  for (int time = time_m, t0 = (time)%(2), t1 = (time + 1)%(2); time <= time_M; time += 1, t0 = (time)%(2), t1 = (time + 1)%(2))\n",
      "  {\n",
      "    /* Begin section0 */\n",
      "    START_TIMER(section0)\n",
      "    for (int i0x = i0x_ltkn + x_m; i0x <= -i0x_rtkn + x_M; i0x += 1)\n",
      "    {\n",
      "      #pragma omp simd aligned(M,N,eta:32)\n",
      "      for (int i0y = i0y_ltkn + y_m; i0y <= -i0y_rtkn + y_M; i0y += 1)\n",
      "      {\n",
      "        eta[t1][i0x + 2][i0y + 2] = dt*((5.0e-1F*(N[t0][i0x + 2][i0y + 1] - N[t0][i0x + 2][i0y + 3]))/h_y + (5.0e-1F*(M[t0][i0x + 1][i0y + 2] - M[t0][i0x + 3][i0y + 2]))/h_x + eta[t0][i0x + 2][i0y + 2]/dt);\n",
      "      }\n",
      "    }\n",
      "    STOP_TIMER(section0,timers)\n",
      "    /* End section0 */\n",
      "    /* Begin section1 */\n",
      "    START_TIMER(section1)\n",
      "    for (int y = y_m; y <= y_M; y += 1)\n",
      "    {\n",
      "      eta[t1][2][y + 2] = eta[t1][3][y + 2];\n",
      "      eta[t1][402][y + 2] = eta[t1][401][y + 2];\n",
      "    }\n",
      "    STOP_TIMER(section1,timers)\n",
      "    /* End section1 */\n",
      "    /* Begin section2 */\n",
      "    START_TIMER(section2)\n",
      "    for (int x = x_m; x <= x_M; x += 1)\n",
      "    {\n",
      "      eta[t1][x + 2][2] = eta[t1][x + 2][3];\n",
      "      eta[t1][x + 2][402] = eta[t1][x + 2][401];\n",
      "    }\n",
      "    for (int i0x = i0x_ltkn + x_m; i0x <= -i0x_rtkn + x_M; i0x += 1)\n",
      "    {\n",
      "      #pragma omp simd aligned(D,M,N,eta:32)\n",
      "      for (int i0y = i0y_ltkn + y_m; i0y <= -i0y_rtkn + y_M; i0y += 1)\n",
      "      {\n",
      "        float r7 = 1.0F/dt;\n",
      "        float r6 = 1.0F/h_y;\n",
      "        float r5 = 1.0F/h_x;\n",
      "        float r4 = 1.0F/D[i0x + 1][i0y + 2];\n",
      "        float r3 = 1.0F/D[i0x + 2][i0y + 1];\n",
      "        float r2 = 1.0F/D[i0x + 1][i0y + 1];\n",
      "        float r1 = pow(D[i0x + 1][i0y + 1], -2.33333333333333F);\n",
      "        float r0 = sqrt(pow(M[t0][i0x + 2][i0y + 2], 2) + pow(N[t0][i0x + 2][i0y + 2], 2));\n",
      "        M[t1][i0x + 2][i0y + 2] = dt*(r0*(-6.13125e-3F*r1*M[t0][i0x + 2][i0y + 2]) + r2*(r5*(M[t0][i0x + 2][i0y + 2]*M[t0][i0x + 2][i0y + 2]) + r6*M[t0][i0x + 2][i0y + 2]*N[t0][i0x + 2][i0y + 2]) + r5*(-r3*M[t0][i0x + 3][i0y + 2]*M[t0][i0x + 3][i0y + 2] - 4.905F*(-eta[t1][i0x + 1][i0y + 2] + eta[t1][i0x + 3][i0y + 2])*D[i0x + 1][i0y + 1]) + r6*(-r4*M[t0][i0x + 2][i0y + 3]*N[t0][i0x + 2][i0y + 3]) + r7*M[t0][i0x + 2][i0y + 2]);\n",
      "        N[t1][i0x + 2][i0y + 2] = dt*(r0*(-6.13125e-3F*r1*N[t0][i0x + 2][i0y + 2]) + r2*(r5*M[t0][i0x + 2][i0y + 2]*N[t0][i0x + 2][i0y + 2] + r6*(N[t0][i0x + 2][i0y + 2]*N[t0][i0x + 2][i0y + 2])) + r5*(-r3*M[t0][i0x + 3][i0y + 2]*N[t0][i0x + 3][i0y + 2]) + r6*(-r4*N[t0][i0x + 2][i0y + 3]*N[t0][i0x + 2][i0y + 3] - 4.905F*(-eta[t1][i0x + 2][i0y + 1] + eta[t1][i0x + 2][i0y + 3])*D[i0x + 1][i0y + 1]) + r7*N[t0][i0x + 2][i0y + 2]);\n",
      "      }\n",
      "    }\n",
      "    for (int x = x_m; x <= x_M; x += 1)\n",
      "    {\n",
      "      #pragma omp simd aligned(D,eta,h:32)\n",
      "      for (int y = y_m; y <= y_M; y += 1)\n",
      "      {\n",
      "        D[x + 1][y + 1] = h[x + 1][y + 1] + eta[t1][x + 2][y + 2];\n",
      "      }\n",
      "    }\n",
      "    STOP_TIMER(section2,timers)\n",
      "    /* End section2 */\n",
      "  }\n",
      "\n",
      "  return 0;\n",
      "}\n",
      "\n"
     ]
    }
   ],
   "source": [
    "print(op.ccode)"
   ]
  },
  {
   "cell_type": "code",
   "execution_count": null,
   "id": "8202ae34-2f03-4130-bd98-5cf122d06265",
   "metadata": {},
   "outputs": [],
   "source": []
  }
 ],
 "metadata": {
  "kernelspec": {
   "display_name": "Python 3",
   "language": "python",
   "name": "python3"
  },
  "language_info": {
   "codemirror_mode": {
    "name": "ipython",
    "version": 3
   },
   "file_extension": ".py",
   "mimetype": "text/x-python",
   "name": "python",
   "nbconvert_exporter": "python",
   "pygments_lexer": "ipython3",
   "version": "3.7.10"
  }
 },
 "nbformat": 4,
 "nbformat_minor": 5
}

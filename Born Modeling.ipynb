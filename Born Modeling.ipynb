{
 "cells": [
  {
   "cell_type": "code",
   "execution_count": 7,
   "id": "d7b78161-96e7-4b12-9716-1aa091e141e2",
   "metadata": {},
   "outputs": [],
   "source": [
    "import devito\n",
    "from matplotlib import pyplot as plt\n",
    "import numpy as np\n",
    "%matplotlib inline"
   ]
  },
  {
   "cell_type": "code",
   "execution_count": 14,
   "id": "1c743bd2-07fa-48f9-beb5-874b0cb73f71",
   "metadata": {},
   "outputs": [
    {
     "name": "stderr",
     "output_type": "stream",
     "text": [
      "Operator `initdamp` ran in 0.01 s\n",
      "Operator `pad_vp` ran in 0.01 s\n"
     ]
    },
    {
     "data": {
      "image/png": "[encoded data removed]",
      "text/plain": [
       "<Figure size 576x432 with 2 Axes>"
      ]
     },
     "metadata": {
      "needs_background": "light"
     },
     "output_type": "display_data"
    }
   ],
   "source": [
    "from examples.seismic import Model, plot_velocity\n",
    "\n",
    "shape = (101, 201)\n",
    "spacing = (25,8)\n",
    "origin = (0., 0.)\n",
    "\n",
    "vel = np.zeros(shape, dtype=np.float32)\n",
    "vel[shape[0]//2, shape[1]//2] = 1.\n",
    "\n",
    "model = Model(vp=vel, origin=origin, shape=shape, spacing=spacing, space_order=2, nbl=20, bcs=\"damp\")\n",
    "plot_velocity(model)"
   ]
  },
  {
   "cell_type": "code",
   "execution_count": 15,
   "id": "716f509e-bcc9-49cf-b33c-b51b8f309eb1",
   "metadata": {},
   "outputs": [
    {
     "name": "stdout",
     "output_type": "stream",
     "text": [
      "Help on class SeismicModel in module examples.seismic.model:\n",
      "\n",
      "class SeismicModel(GenericModel)\n",
      " |  SeismicModel(origin, spacing, shape, space_order, vp, nbl=20, fs=False, dtype=<class 'numpy.float32'>, subdomains=(), bcs='mask', grid=None, **kwargs)\n",
      " |  \n",
      " |  The physical model used in seismic inversion processes.\n",
      " |  \n",
      " |  Parameters\n",
      " |  ----------\n",
      " |  origin : tuple of floats\n",
      " |      Origin of the model in m as a tuple in (x,y,z) order.\n",
      " |  spacing : tuple of floats\n",
      " |      Grid size in m as a Tuple in (x,y,z) order.\n",
      " |  shape : tuple of int\n",
      " |      Number of grid points size in (x,y,z) order.\n",
      " |  space_order : int\n",
      " |      Order of the spatial stencil discretisation.\n",
      " |  vp : array_like or float\n",
      " |      Velocity in km/s.\n",
      " |  nbl : int, optional\n",
      " |      The number of absorbin layers for boundary damping.\n",
      " |  bcs: str or callable\n",
      " |      Absorbing boundary type (\"damp\" or \"mask\") or initializer.\n",
      " |  dtype : np.float32 or np.float64\n",
      " |      Defaults to np.float32.\n",
      " |  epsilon : array_like or float, optional\n",
      " |      Thomsen epsilon parameter (0<epsilon<1).\n",
      " |  delta : array_like or float\n",
      " |      Thomsen delta parameter (0<delta<1), delta<epsilon.\n",
      " |  theta : array_like or float\n",
      " |      Tilt angle in radian.\n",
      " |  phi : array_like or float\n",
      " |      Asymuth angle in radian.\n",
      " |  b : array_like or float\n",
      " |      Buoyancy.\n",
      " |  vs : array_like or float\n",
      " |      S-wave velocity.\n",
      " |  qp : array_like or float\n",
      " |      P-wave attenuation.\n",
      " |  qs : array_like or float\n",
      " |      S-wave attenuation.\n",
      " |  \n",
      " |  Method resolution order:\n",
      " |      SeismicModel\n",
      " |      GenericModel\n",
      " |      builtins.object\n",
      " |  \n",
      " |  Methods defined here:\n",
      " |  \n",
      " |  __init__(self, origin, spacing, shape, space_order, vp, nbl=20, fs=False, dtype=<class 'numpy.float32'>, subdomains=(), bcs='mask', grid=None, **kwargs)\n",
      " |      Initialize self.  See help(type(self)) for accurate signature.\n",
      " |  \n",
      " |  smooth(self, physical_parameters, sigma=5.0)\n",
      " |      Apply devito.gaussian_smooth to model physical parameters.\n",
      " |      \n",
      " |      Parameters\n",
      " |      ----------\n",
      " |      physical_parameters : string or tuple of string\n",
      " |          Names of the fields to be smoothed.\n",
      " |      sigma : float\n",
      " |          Standard deviation of the smoothing operator.\n",
      " |  \n",
      " |  update(self, name, value)\n",
      " |      Update the physical parameter param.\n",
      " |  \n",
      " |  ----------------------------------------------------------------------\n",
      " |  Data descriptors defined here:\n",
      " |  \n",
      " |  critical_dt\n",
      " |      Critical computational time step value from the CFL condition.\n",
      " |  \n",
      " |  dm\n",
      " |      Create a simple model perturbation from the velocity as `dm = div(vp)`.\n",
      " |  \n",
      " |  dt_scale\n",
      " |  \n",
      " |  m\n",
      " |      Squared slowness.\n",
      " |  \n",
      " |  ----------------------------------------------------------------------\n",
      " |  Methods inherited from GenericModel:\n",
      " |  \n",
      " |  physical_params(self, **kwargs)\n",
      " |      Return all set physical parameters and update to input values if provided\n",
      " |  \n",
      " |  ----------------------------------------------------------------------\n",
      " |  Data descriptors inherited from GenericModel:\n",
      " |  \n",
      " |  __dict__\n",
      " |      dictionary for instance variables (if defined)\n",
      " |  \n",
      " |  __weakref__\n",
      " |      list of weak references to the object (if defined)\n",
      " |  \n",
      " |  dim\n",
      " |      Spatial dimension of the problem and model domain.\n",
      " |  \n",
      " |  domain_size\n",
      " |      Physical size of the domain as determined by shape and spacing\n",
      " |  \n",
      " |  dtype\n",
      " |      Data type for all assocaited data objects.\n",
      " |  \n",
      " |  padsizes\n",
      " |      Padding size for each dimension.\n",
      " |  \n",
      " |  physical_parameters\n",
      " |  \n",
      " |  space_dimensions\n",
      " |      Spatial dimensions of the grid\n",
      " |  \n",
      " |  spacing\n",
      " |      Grid spacing for all fields in the physical model.\n",
      " |  \n",
      " |  spacing_map\n",
      " |      Map between spacing symbols and their values for each `SpaceDimension`.\n",
      "\n"
     ]
    }
   ],
   "source": [
    "help(Model)"
   ]
  },
  {
   "cell_type": "code",
   "execution_count": 16,
   "id": "40310bb5-37d7-48c8-b2cf-3919364d4943",
   "metadata": {},
   "outputs": [],
   "source": [
    "from examples.seismic import TimeAxis\n",
    "\n",
    "t0 = 0.\n",
    "tn = 1000.\n",
    "dt = model.critical_dt\n",
    "\n",
    "time_range = TimeAxis (start=t0, stop=tn, step=dt)"
   ]
  },
  {
   "cell_type": "code",
   "execution_count": 20,
   "id": "af035fcd-93bb-4757-835a-b4ce9b002773",
   "metadata": {},
   "outputs": [
    {
     "data": {
      "image/png": "[encoded data removed]",
      "text/plain": [
       "<Figure size 576x432 with 1 Axes>"
      ]
     },
     "metadata": {
      "needs_background": "light"
     },
     "output_type": "display_data"
    }
   ],
   "source": [
    "from examples.seismic import RickerSource\n",
    "\n",
    "f0 = 0.010\n",
    "src = RickerSource(name='src', grid=model.grid, f0=f0,\n",
    "                  npoint=1, time_range=time_range)\n",
    "\n",
    "src.coordinates.data[0, :] = np.array(model.domain_size) * .5\n",
    "src.coordinates.data[0, -1] = 20.\n",
    "\n",
    "src.show()"
   ]
  },
  {
   "cell_type": "code",
   "execution_count": 25,
   "id": "55b39a18-9e1c-44c9-a545-13b180de63d8",
   "metadata": {},
   "outputs": [
    {
     "data": {
      "image/png": "[encoded data removed]",
      "text/plain": [
       "<Figure size 576x432 with 2 Axes>"
      ]
     },
     "metadata": {
      "needs_background": "light"
     },
     "output_type": "display_data"
    }
   ],
   "source": [
    "from examples.seismic import Receiver\n",
    "\n",
    "rec = Receiver(name='rec', grid=model.grid, npoint=201, time_range=time_range)\n",
    "\n",
    "# Prescribe even spacing for receivers along the x-axis\n",
    "rec.coordinates.data[:,0] = np.linspace(0, model.domain_size[0], num=201)\n",
    "rec.coordinates.data[:,1] = 20.\n",
    "\n",
    "plot_velocity(model, source=src.coordinates.data,\n",
    "             receiver=rec.coordinates.data[::4, :])"
   ]
  },
  {
   "cell_type": "code",
   "execution_count": 34,
   "id": "26cd9d73-b433-49ea-a206-bf110e075b30",
   "metadata": {},
   "outputs": [
    {
     "data": {
      "text/latex": [
       "$\\displaystyle \\operatorname{damp}{\\left(x,y \\right)} \\frac{\\partial}{\\partial t} u{\\left(t,x,y \\right)} - \\frac{\\partial^{2}}{\\partial x^{2}} u{\\left(t,x,y \\right)} - \\frac{\\partial^{2}}{\\partial y^{2}} u{\\left(t,x,y \\right)} + \\frac{\\frac{\\partial^{2}}{\\partial t^{2}} u{\\left(t,x,y \\right)}}{\\operatorname{vp}^{2}{\\left(x,y \\right)}}$"
      ],
      "text/plain": [
       "damp(x, y)*Derivative(u(t, x, y), t) - Derivative(u(t, x, y), (x, 2)) - Derivative(u(t, x, y), (y, 2)) + Derivative(u(t, x, y), (t, 2))/vp(x, y)**2"
      ]
     },
     "execution_count": 34,
     "metadata": {},
     "output_type": "execute_result"
    }
   ],
   "source": [
    "from devito import TimeFunction\n",
    "\n",
    "u = TimeFunction(name=\"u\", grid=model.grid, time_order=2, space_order=2)\n",
    "\n",
    "pde = model.m * u.dt2 - u.laplace + model.damp * u.dt\n",
    "\n",
    "pde"
   ]
  },
  {
   "cell_type": "code",
   "execution_count": 35,
   "id": "4d13e55f-c729-4144-9167-3e59a043dd7c",
   "metadata": {},
   "outputs": [
    {
     "data": {
      "text/latex": [
       "$\\displaystyle u{\\left(t + dt,x,y \\right)} = \\frac{- \\frac{- \\frac{2.0 u{\\left(t,x,y \\right)}}{dt^{2}} + \\frac{u{\\left(t - dt,x,y \\right)}}{dt^{2}}}{\\operatorname{vp}^{2}{\\left(x,y \\right)}} + \\frac{\\partial^{2}}{\\partial x^{2}} u{\\left(t,x,y \\right)} + \\frac{\\partial^{2}}{\\partial y^{2}} u{\\left(t,x,y \\right)} + \\frac{\\operatorname{damp}{\\left(x,y \\right)} u{\\left(t,x,y \\right)}}{dt}}{\\frac{\\operatorname{damp}{\\left(x,y \\right)}}{dt} + \\frac{1}{dt^{2} \\operatorname{vp}^{2}{\\left(x,y \\right)}}}$"
      ],
      "text/plain": [
       "Eq(u(t + dt, x, y), (-(-2.0*u(t, x, y)/dt**2 + u(t - dt, x, y)/dt**2)/vp(x, y)**2 + Derivative(u(t, x, y), (x, 2)) + Derivative(u(t, x, y), (y, 2)) + damp(x, y)*u(t, x, y)/dt)/(damp(x, y)/dt + 1/(dt**2*vp(x, y)**2)))"
      ]
     },
     "execution_count": 35,
     "metadata": {},
     "output_type": "execute_result"
    }
   ],
   "source": [
    "from devito import Eq, solve\n",
    "\n",
    "stencil = Eq(u.forward, solve(pde, u.forward))\n",
    "stencil"
   ]
  },
  {
   "cell_type": "code",
   "execution_count": null,
   "id": "0d08c1fd-6dda-474b-ae0b-b1d6aa5770b4",
   "metadata": {},
   "outputs": [],
   "source": []
  }
 ],
 "metadata": {
  "kernelspec": {
   "display_name": "Python 3",
   "language": "python",
   "name": "python3"
  },
  "language_info": {
   "codemirror_mode": {
    "name": "ipython",
    "version": 3
   },
   "file_extension": ".py",
   "mimetype": "text/x-python",
   "name": "python",
   "nbconvert_exporter": "python",
   "pygments_lexer": "ipython3",
   "version": "3.7.10"
  }
 },
 "nbformat": 4,
 "nbformat_minor": 5
}

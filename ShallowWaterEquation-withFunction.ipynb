{
 "cells": [
  {
   "cell_type": "code",
   "execution_count": 1,
   "id": "13e09a87-83e9-4bfa-aaef-5d471732b39d",
   "metadata": {},
   "outputs": [],
   "source": [
    "from devito import Eq, TimeFunction, sqrt, Function, Operator, Grid, solve\n",
    "from matplotlib import pyplot as plt\n",
    "import numpy as np\n",
    "\n",
    "def Shallow_water_2D(eta0, M0, N0, h0, grid, g, alpha, nt, dx, dy, dt):\n",
    "    \"\"\"\n",
    "    Computes and returns the discharge fluxes M, N and wave height eta from\n",
    "    the 2D Shallow water equation using the FTCS finite difference method.\n",
    "\n",
    "    Parameters\n",
    "    ----------\n",
    "    eta0 : numpy.ndarray\n",
    "        The initial wave height field as a 2D array of floats.\n",
    "    M0 : numpy.ndarray\n",
    "        The initial discharge flux field in x-direction as a 2D array of floats.\n",
    "    N0 : numpy.ndarray\n",
    "        The initial discharge flux field in y-direction as a 2D array of floats.\n",
    "    h : numpy.ndarray\n",
    "        Bathymetry model as a 2D array of floats.\n",
    "    g : float\n",
    "        gravity acceleration.\n",
    "    alpha : float\n",
    "        Manning's roughness coefficient.\n",
    "    nt : integer\n",
    "        Number fo timesteps.\n",
    "    dx : float\n",
    "        Spatial gridpoint distance in x-direction.\n",
    "    dy : float\n",
    "        Spatial gridpoint distance in y-direction.\n",
    "    dt : float\n",
    "        Time step.\n",
    "    \"\"\"\n",
    "\n",
    "    eta   = TimeFunction(name='eta', grid=grid, space_order=2)\n",
    "    M     = TimeFunction(name='M', grid=grid, space_order=2)\n",
    "    N     = TimeFunction(name='N', grid=grid, space_order=2)\n",
    "    h     = Function(name='h', grid=grid)\n",
    "    D     = Function(name='D', grid=grid)\n",
    "\n",
    "    eta.data[0] = eta0.copy()\n",
    "    M.data[0]   = M0.copy()\n",
    "    N.data[0]   = N0.copy()\n",
    "    D.data[:]   = D0.copy()\n",
    "    h.data[:]   = h0.copy()\n",
    "\n",
    "    frictionTerm = g * alpha**2 * sqrt(M**2 + N**2 ) / D**(7./3.)\n",
    "\n",
    "    pde_eta = Eq(eta.dt + M.dxc + N.dyc)\n",
    "    pde_M   = Eq(M.dt + (M**2/D).dxc + (M*N/D).dyc + g*D*eta.forward.dxc + frictionTerm*M)\n",
    "    pde_N   = Eq(N.dt + (M*N/D).dxc + (N**2/D).dyc + g*D*eta.forward.dyc + frictionTerm*N)\n",
    "\n",
    "    # Defining boundary conditions\n",
    "    x, y = grid.dimensions\n",
    "    t = grid.stepping_dim\n",
    "    bc_left   = Eq(eta[t+1, 0, y], eta[t+1, 1, y])\n",
    "    bc_right  = Eq(eta[t+1, nx-1, y], eta[t+1, nx-2, y])\n",
    "    bc_top    = Eq(eta[t+1, x, 0], eta[t+1, x, 1])\n",
    "    bc_bottom = Eq(eta[t+1, x, ny-1], eta[t+1, x, ny-2])\n",
    "\n",
    "    stencil_eta = solve(pde_eta, eta.forward)\n",
    "    stencil_M   = solve(pde_M, M.forward)\n",
    "    stencil_N   = solve(pde_N, N.forward)\n",
    "\n",
    "    update_eta  = Eq(eta.forward, stencil_eta, subdomain=grid.interior)\n",
    "    update_M    = Eq(M.forward, stencil_M, subdomain=grid.interior)\n",
    "    update_N    = Eq(N.forward, stencil_N, subdomain=grid.interior)\n",
    "    eq_D        = Eq(D, eta.forward + h)\n",
    "\n",
    "    optime = Operator([update_eta, bc_left, bc_right, bc_top, bc_bottom,\n",
    "                       update_M, update_N, eq_D])\n",
    "\n",
    "    optime(time=nt, dt=dt)\n",
    "    return eta, M, N"
   ]
  },
  {
   "cell_type": "markdown",
   "id": "32ba2ef5-9e17-4668-ad81-02d85a6b66dd",
   "metadata": {},
   "source": [
    "## Example I: Tsunami in an ocean with constant depth\n",
    "\n",
    "After writing the `Shallow_water_2D` code and all the required functions attached to it, we can define and run our first 2D Tsunami modelling run.\n",
    "\n",
    "Let's assume that the ocean model is $ L_x = 100\\; m$ in x-direction and $L_y = 100\\; m$ in y-direction. The model is discretized with $nx=401$ gridpoints in x-direction and $ny=401$ gridpoints in y-direction, respectively.\n",
    "\n",
    "In this first modelling run, we assume a constant bathymetry $h=50\\;m$. The initial wave height field $\\eta_0$ is defined as a Gaussian at the center of the model, with a half-width of 10 m and an amplitude of 0.5 m. Regarding the initial discharge fluxes, we assume that \n",
    "\n",
    "\\begin{equation}\n",
    "\\begin{split}\n",
    "M_0(x,y) &= 100 \\eta_0(x,y)\\\\\n",
    "N_0(x,y) &= 0\\\\\n",
    "\\end{split}\\notag\n",
    "\\end{equation}\n",
    "\n",
    "Furthermore, Dirichlet boundary conditions for the discharge fluxes $M,\\;N$ are assumed at all boundaries: \n",
    "\n",
    "\\begin{equation}\n",
    "\\begin{split}\n",
    "M(0,y) &= M(L_x,y) = M(x,0) = M(x,L_y) = 0\\\\  \n",
    "N(0,y) &= N(L_x,y) = N(x,0) = N(x,L_y) = 0\\\\  \n",
    "\\end{split} \\notag\n",
    "\\end{equation}\n",
    "\n",
    "For the wave height field $\\eta$, it is essential that Neumann boundary conditions are set at all boundaries:\n",
    "\n",
    "\\begin{equation}\n",
    "\\begin{split}\n",
    "&\\frac{\\partial \\eta}{\\partial x}(0,y) = 0\\\\\n",
    "&\\frac{\\partial \\eta}{\\partial x}(L_x,y) = 0\\\\\n",
    "&\\frac{\\partial \\eta}{\\partial y}(x,0) = 0\\\\\n",
    "&\\frac{\\partial \\eta}{\\partial y}(x,L_y) = 0\\\\\n",
    "\\end{split}\\notag\n",
    "\\end{equation}\n",
    "\n",
    "in order to avoid the occurence of high frequency artifacts, when waves are interacting with the boundaries. Notice, that the assumed boundary conditions lead to significant boundary reflections which might be not realistic for a given problem. However, to keep the problem simple, we will not try to mitigate the boundary reflections. "
   ]
  },
  {
   "cell_type": "code",
   "execution_count": 2,
   "id": "9b704039-286f-4cb7-9e5d-465584c3744a",
   "metadata": {},
   "outputs": [
    {
     "name": "stdout",
     "output_type": "stream",
     "text": [
      "0.00022222222222222223 4500\n"
     ]
    }
   ],
   "source": [
    "Lx    = 100.0   # width of the mantle in the x direction []\n",
    "Ly    = 100.0   # thickness of the mantle in the y direction []\n",
    "nx    = 401     # number of points in the x direction\n",
    "ny    = 401     # number of points in the y direction\n",
    "dx    = Lx / (nx - 1)  # grid spacing in the x direction []\n",
    "dy    = Ly / (ny - 1)  # grid spacing in the y direction []\n",
    "g     = 9.81  # gravity acceleration [m/s^2]\n",
    "alpha = 0.025 # friction coefficient for natural channels in good condition\n",
    "# Maximum wave propagation time [s]\n",
    "Tmax  = 1.\n",
    "dt    = 1/4500.\n",
    "nt    = (int)(Tmax/dt)\n",
    "print(dt, nt)\n",
    "\n",
    "x = np.linspace(0.0, Lx, num=nx)\n",
    "y = np.linspace(0.0, Ly, num=ny)\n",
    "\n",
    "# Define initial eta, M, N\n",
    "X, Y = np.meshgrid(x,y) # coordinates X,Y required to define eta, h, M, N\n",
    "\n",
    "# Define constant ocean depth profile h = 50 m\n",
    "h0 = 50. * np.ones_like(X)\n",
    "\n",
    "# Define initial eta Gaussian distribution [m]\n",
    "eta0 = 0.5 * np.exp(-((X-50)**2/10)-((Y-50)**2/10))\n",
    "\n",
    "# Define initial M and N\n",
    "M0 = 100. * eta0\n",
    "N0 = 0. * M0\n",
    "D0 = eta0 + 50.\n",
    "\n",
    "grid  = Grid(shape=(ny, nx), extent=(Ly, Lx))"
   ]
  },
  {
   "cell_type": "code",
   "execution_count": 5,
   "id": "a1790290-c565-4220-a1d5-c5d32a387db3",
   "metadata": {},
   "outputs": [
    {
     "name": "stderr",
     "output_type": "stream",
     "text": [
      "Allocating memory for eta(2, 405, 405)\n",
      "Allocating memory for M(2, 405, 405)\n",
      "Allocating memory for N(2, 405, 405)\n",
      "Allocating memory for D(403, 403)\n",
      "Allocating memory for h(403, 403)\n",
      "Operator `Kernel` generated in 1.17 s\n",
      "  * lowering.Clusters: 0.66 s (56.7 %)\n",
      "     * specializing.Clusters: 0.55 s (47.3 %)\n",
      "        * factorize: 0.36 s (31.0 %)\n",
      "  * lowering.IET: 0.27 s (23.2 %)\n",
      "Flops reduction after symbolic optimization: [112 --> 75]\n",
      "Operator `Kernel` fetched `/run/user/1001/devito-jitcache-uid1001/ab6ad50fffe8ed6008e4de7bd97b70a6fa707a7a.c` in 0.10 s from jit-cache\n",
      "Operator `Kernel` ran in 39.57 s\n",
      "Global performance: [OI=0.01, 1.36 GFlops/s, 0.02 GPts/s]\n",
      "Local performance:\n",
      "  * section0<4501,399,399> ran in 5.82 s [OI=0.82, 1.61 GFlops/s, 0.13 GPts/s]\n",
      "  * section2<<4501,401>,<4501,399,399>,<4501,401,401>> ran in 33.75 s [OI=0.01, 1.32 GFlops/s, 0.03 GPts/s]\n",
      "Performance[mode=advanced] arguments: {}\n"
     ]
    },
    {
     "data": {
      "text/plain": [
       "<function matplotlib.pyplot.show(close=None, block=None)>"
      ]
     },
     "execution_count": 5,
     "metadata": {},
     "output_type": "execute_result"
    },
    {
     "data": {
      "image/png": "[encoded data removed]",
      "text/plain": [
       "<Figure size 432x288 with 4 Axes>"
      ]
     },
     "metadata": {
      "needs_background": "light"
     },
     "output_type": "display_data"
    }
   ],
   "source": [
    "eta, M, N = Shallow_water_2D(eta0, M0, N0, h0, grid, g, alpha, nt, dx, dy, dt)\n",
    "\n",
    "fig, ax = plt.subplots(2,2)\n",
    "ax[0,0].imshow(eta.data[1])\n",
    "ax[0,1].imshow(M.data[1])\n",
    "ax[1,0].imshow(N.data[1])\n",
    "plt.show"
   ]
  },
  {
   "cell_type": "code",
   "execution_count": null,
   "id": "25766546-a976-4144-be20-bce903773c63",
   "metadata": {},
   "outputs": [],
   "source": []
  }
 ],
 "metadata": {
  "kernelspec": {
   "display_name": "Python 3",
   "language": "python",
   "name": "python3"
  },
  "language_info": {
   "codemirror_mode": {
    "name": "ipython",
    "version": 3
   },
   "file_extension": ".py",
   "mimetype": "text/x-python",
   "name": "python",
   "nbconvert_exporter": "python",
   "pygments_lexer": "ipython3",
   "version": "3.7.10"
  }
 },
 "nbformat": 4,
 "nbformat_minor": 5
}
